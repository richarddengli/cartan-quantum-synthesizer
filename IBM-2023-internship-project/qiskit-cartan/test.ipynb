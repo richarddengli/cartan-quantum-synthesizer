{
 "cells": [
  {
   "attachments": {},
   "cell_type": "markdown",
   "metadata": {},
   "source": [
    "### Check passes in `init` stage of PassManager"
   ]
  },
  {
   "cell_type": "code",
   "execution_count": 910,
   "metadata": {},
   "outputs": [
    {
     "name": "stdout",
     "output_type": "stream",
     "text": [
      "\n",
      "\n",
      "passes in init stage: [{'passes': [<qiskit.transpiler.passes.utils.contains_instruction.ContainsInstruction object at 0x000002A315A7A560>], 'flow_controllers': {}}]\n"
     ]
    }
   ],
   "source": [
    "from qiskit.transpiler.preset_passmanagers import generate_preset_pass_manager\n",
    "from qiskit.providers.fake_provider import FakeTokyo\n",
    "\n",
    "# Get the passes from the init stage of a preset PassManager instance,\n",
    "# which is the default pass managers used by the transpile() function.\n",
    "backend = FakeTokyo()\n",
    "\n",
    "pm = generate_preset_pass_manager(0) #backend = backend is optional\n",
    "print(\"\\n\")\n",
    "print(\"passes in init stage:\", pm.init.passes())\n",
    "\n",
    "# When the backend is not specified, pm.init.passes only contains only an analysis pass\n",
    "# to detect if the DAG contains a specific instruction. Otherwise, it also contains \\\n",
    "# unitary synthesis, high level synthesis, and unroll_3q_or_more."
   ]
  },
  {
   "attachments": {},
   "cell_type": "markdown",
   "metadata": {},
   "source": [
    "### Example of PauliEvolutionGate instance"
   ]
  },
  {
   "cell_type": "code",
   "execution_count": 911,
   "metadata": {},
   "outputs": [
    {
     "name": "stdout",
     "output_type": "stream",
     "text": [
      "Hamiltonian of PauliEvolutionGate object:  SparsePauliOp(['ZZ', 'XI'],\n",
      "              coeffs=[ 1. +0.j, -0.1+0.j])\n"
     ]
    }
   ],
   "source": [
    "from qiskit.circuit.library import PauliEvolutionGate\n",
    "from qiskit.opflow import I, Z, X\n",
    "\n",
    "# Build the evolution gate.\n",
    "operator = (Z ^ Z) - 0.1 * (X ^ I)\n",
    "evo = PauliEvolutionGate(operator, time=0.2)\n",
    "print(\"Hamiltonian of PauliEvolutionGate object: \", evo.operator)\n"
   ]
  },
  {
   "attachments": {},
   "cell_type": "markdown",
   "metadata": {},
   "source": [
    "### Example of Workflow for a 2-site Heisenberg model\n",
    "\n",
    "The general form of a 1_D nearest neighbour Heisenberg model with open boundary conditions and free coefficients is \n",
    "\n",
    "$ \\mathcal{H} = \\sum_{i=1}^{n-1} \\left( a_i X_i X_{i+1} + b_i Y_i Y_{i+1} + c_i Z_i Z_{i+1} \\right)$ for some coefficients $\\left\\{ a_i, b_i, c_i \\right\\}_{i=1}^{n-1}$.\n",
    "\n",
    "We will first try the example of a 3-site model with unit coefficients given its simplicity. "
   ]
  },
  {
   "cell_type": "code",
   "execution_count": 912,
   "metadata": {},
   "outputs": [],
   "source": [
    "from CQS.methods import Hamiltonian, Cartan, FindParameters\n",
    "import numpy as np\n",
    "\n",
    "# Define the system parameters.\n",
    "sites = 3\n",
    "model = 'heisenberg'\n",
    "coefficient = 1\n",
    "\n",
    "# Tuple will be used to generate the Hamiltonian.\n",
    "modelTuple = [(coefficient, model)]"
   ]
  },
  {
   "cell_type": "code",
   "execution_count": 913,
   "metadata": {},
   "outputs": [
    {
     "name": "stdout",
     "output_type": "stream",
     "text": [
      "number of Pauli strings in Hamiltonian: 6\n",
      "1 * XXI\n",
      "1 * YYI\n",
      "1 * ZZI\n",
      "1 * IXX\n",
      "1 * IYY\n",
      "1 * IZZ\n"
     ]
    }
   ],
   "source": [
    "# Generate the Hamiltonian 1*(XX+YY+ZZ).\n",
    "heisenbergH = Hamiltonian(sites, name=modelTuple)\n",
    "\n",
    "# Print number of terms in Hamiltonian.\n",
    "Hlen = len(heisenbergH.HCoefs)\n",
    "print(\"number of Pauli strings in Hamiltonian:\", Hlen)\n",
    "\n",
    "# Print Hamiltonian.\n",
    "heisenbergH.getHamiltonian(type='printText')\n",
    "\n",
    "# For a custom Hamiltonian, can generate empty Hamiltonian object\n",
    "# then add terms. See custom_hamiltonians.ipynb."
   ]
  },
  {
   "cell_type": "code",
   "execution_count": 914,
   "metadata": {},
   "outputs": [],
   "source": [
    "# Try to perform a Cartan involution on the Hamiltonian\n",
    "# using the defauls evenOdd Decomposition.\n",
    "# If H is not contained in the -1 eigenspace, raise an error.\n",
    "\n",
    "try:\n",
    "    heisenbergC = Cartan(heisenbergH)\n",
    "except Exception as e:\n",
    "    print(e)"
   ]
  },
  {
   "cell_type": "code",
   "execution_count": 915,
   "metadata": {},
   "outputs": [
    {
     "name": "stdout",
     "output_type": "stream",
     "text": [
      "g(H), the Hamiltonian Algebra:  [(1, 3, 2), (1, 2, 3), (2, 3, 1), (2, 1, 3), (3, 2, 1), (3, 1, 2), (1, 1, 0), (2, 2, 0), (3, 3, 0), (0, 1, 1), (0, 2, 2), (0, 3, 3), (3, 0, 3), (2, 0, 2), (1, 0, 1)]\n",
      "k, the +1 eigenspace of g under the involution:  [(1, 3, 2), (1, 2, 3), (2, 3, 1), (2, 1, 3), (3, 2, 1), (3, 1, 2)]\n",
      "m, the -1 eigenspace of g under the involution:  [(1, 1, 0), (2, 2, 0), (3, 3, 0), (0, 1, 1), (0, 2, 2), (0, 3, 3), (3, 0, 3), (2, 0, 2), (1, 0, 1)]\n",
      "h: a Cartan subalgebra of m:  [(1, 1, 0), (2, 2, 0), (3, 3, 0)]\n"
     ]
    }
   ],
   "source": [
    "print('g(H), the Hamiltonian Algebra: ', heisenbergC.g)\n",
    "print('k, the +1 eigenspace of g under the involution: ', heisenbergC.k)\n",
    "print('m, the -1 eigenspace of g under the involution: ', heisenbergC.m)\n",
    "print('h: a Cartan subalgebra of m: ', heisenbergC.h)\n",
    "# Note h is not unique in general; use seed to duplicate results.\n",
    "\n",
    "# Check that g(H) is indeed the direct sum of k and m\n",
    "# by checking the length of g(H) is the same as the sum of k and m.\n",
    "assert(len(heisenbergC.g) == len(heisenbergC.k) + len(heisenbergC.m))"
   ]
  },
  {
   "cell_type": "code",
   "execution_count": 916,
   "metadata": {},
   "outputs": [
    {
     "name": "stdout",
     "output_type": "stream",
     "text": [
      "Optimization terminated successfully.\n",
      "         Current function value: -2.303234\n",
      "         Iterations: 15\n",
      "         Function evaluations: 18\n",
      "         Gradient evaluations: 18\n",
      "--- 0.058997154235839844 seconds ---\n",
      "Optimization Error:\n",
      "3.878611739499617e-12\n",
      "Printing Results:\n",
      "K elements \n",
      "\n",
      "1.1780972234347369  *XZY\n",
      "-0.49346963349813827*XYZ\n",
      "-0.4728223917547488 *YZX\n",
      "-0.3077395585789813 *YXZ\n",
      "1.105906361849959   *ZYX\n",
      "-0.8674890304005023 *ZXY\n",
      "\n",
      " h elements: \n",
      " \n",
      "(-1.9999999999994478+0j) *XXI\n",
      "(0.9999999999993744-0j)  *YYI\n",
      "(-0.9999999999997908+0j) *ZZI\n",
      "Normed Error |KHK - Exact|:\n",
      "2.8694329212780605e-06\n"
     ]
    }
   ],
   "source": [
    "# Generate the parameters via classical optimization of the cost function.\n",
    "heisenbergP = FindParameters(heisenbergC)\n",
    "heisenbergP.printResult()"
   ]
  },
  {
   "cell_type": "code",
   "execution_count": 917,
   "metadata": {},
   "outputs": [
    {
     "name": "stdout",
     "output_type": "stream",
     "text": [
      "[(1, 3, 2), (1, 2, 3), (2, 3, 1), (2, 1, 3), (3, 2, 1), (3, 1, 2)]\n",
      "[ 1.17809722 -0.49346963 -0.47282239 -0.30773956  1.10590636 -0.86748903]\n",
      "[(1, 1, 0), (2, 2, 0), (3, 3, 0)]\n",
      "[(-1.9999999999994478+0j), (0.9999999999993744-0j), (-0.9999999999997908+0j)]\n"
     ]
    }
   ],
   "source": [
    "# Summarize above results.\n",
    "print(heisenbergP.cartan.k)\n",
    "print(heisenbergP.kCoefs)\n",
    "\n",
    "print(heisenbergP.cartan.h)\n",
    "print(heisenbergP.hCoefs)\n",
    "\n",
    "# The normed error is the matrix norm between the unitary corresponding to the time-evolution\n",
    "# operator of the cartan decomposed Hamiltonian and the exact Hamiltonian \n",
    "# for the special case of t=1.\n",
    "# A generalization is described in next cell."
   ]
  },
  {
   "attachments": {},
   "cell_type": "markdown",
   "metadata": {},
   "source": [
    "The time-evolution propagator of the Hamiltonian corresponding to some time $t$ is \n",
    "\n",
    "$U(t) = e^{-i\\mathcal{H}t} = K H K^\\dag$, where:\n",
    "\n",
    "- $K = \\prod_{l} e^{i \\times k_l \\times kcoef_l}$ where $\\{k_l\\}$ are the basis elements of the +1 eigenspace and $\\{kcoef_l\\}$ are the coefficients for k found above,\n",
    "- $H = \\prod_{j} e^{-i \\times h_j \\times hcoef_j \\times t}$ where $\\{k_j\\}$ are the basis elements of the Cartan subalgebra and $\\{hcoef_j\\}$ are the coefficients for h found above.\n",
    "\n",
    "To verify this, we use qiskit to produce the explicit circuit for $KHK^\\dag$ and then retrieve the overall unitary for some chosen $t$, `time_evolve`. We compare the resulting unitary with with the exact time evolution propagator (by measuring the matrix norm of their difference)."
   ]
  },
  {
   "cell_type": "code",
   "execution_count": 918,
   "metadata": {},
   "outputs": [
    {
     "data": {
      "text/plain": [
       "'XZY'"
      ]
     },
     "execution_count": 918,
     "metadata": {},
     "output_type": "execute_result"
    }
   ],
   "source": [
    "# Import paulilabel function from CQS.util.IO to convert a tuple of integers \n",
    "# representing a Pauli string into a string of letters, \n",
    "import CQS.util.IO as IO\n",
    "\n",
    "# e.g (1, 3, 2) -> \"X Z Y\".\n",
    "teststr = str(IO.paulilabel((1,3,2)))\n",
    "teststr"
   ]
  },
  {
   "cell_type": "code",
   "execution_count": 919,
   "metadata": {},
   "outputs": [
    {
     "data": {
      "text/html": [
       "<pre style=\"word-wrap: normal;white-space: pre;background: #fff0;line-height: 1.1;font-family: &quot;Courier New&quot;,Courier,monospace\">      ░ ┌───────────────────────┐┌─────────────────────────┐»\n",
       "q_0: ─░─┤0                      ├┤0                        ├»\n",
       "      ░ │                       ││                         │»\n",
       "q_1: ─░─┤1 exp(-it YZX)(1.1781) ├┤1 exp(-it ZYX)(-0.49347) ├»\n",
       "      ░ │                       ││                         │»\n",
       "q_2: ─░─┤2                      ├┤2                        ├»\n",
       "      ░ └───────────────────────┘└─────────────────────────┘»\n",
       "«     ┌─────────────────────────┐┌─────────────────────────┐»\n",
       "«q_0: ┤0                        ├┤0                        ├»\n",
       "«     │                         ││                         │»\n",
       "«q_1: ┤1 exp(-it XZY)(-0.47282) ├┤1 exp(-it ZXY)(-0.30774) ├»\n",
       "«     │                         ││                         │»\n",
       "«q_2: ┤2                        ├┤2                        ├»\n",
       "«     └─────────────────────────┘└─────────────────────────┘»\n",
       "«     ┌───────────────────────┐┌─────────────────────────┐ ░ »\n",
       "«q_0: ┤0                      ├┤0                        ├─░─»\n",
       "«     │                       ││                         │ ░ »\n",
       "«q_1: ┤1 exp(-it XYZ)(1.1059) ├┤1 exp(-it YXZ)(-0.86749) ├─░─»\n",
       "«     │                       ││                         │ ░ »\n",
       "«q_2: ┤2                      ├┤2                        ├─░─»\n",
       "«     └───────────────────────┘└─────────────────────────┘ ░ »\n",
       "«     ┌───────────────────┐┌──────────────────┐┌───────────────────┐ ░ »\n",
       "«q_0: ┤0                  ├┤0                 ├┤0                  ├─░─»\n",
       "«     │                   ││                  ││                   │ ░ »\n",
       "«q_1: ┤1 exp(-it IXX)(-6) ├┤1 exp(-it IYY)(3) ├┤1 exp(-it IZZ)(-3) ├─░─»\n",
       "«     │                   ││                  ││                   │ ░ »\n",
       "«q_2: ┤2                  ├┤2                 ├┤2                  ├─░─»\n",
       "«     └───────────────────┘└──────────────────┘└───────────────────┘ ░ »\n",
       "«     ┌────────────────────────┐┌────────────────────────┐»\n",
       "«q_0: ┤0                       ├┤0                       ├»\n",
       "«     │                        ││                        │»\n",
       "«q_1: ┤1 exp(-it YXZ)(0.86749) ├┤1 exp(-it XYZ)(-1.1059) ├»\n",
       "«     │                        ││                        │»\n",
       "«q_2: ┤2                       ├┤2                       ├»\n",
       "«     └────────────────────────┘└────────────────────────┘»\n",
       "«     ┌────────────────────────┐┌────────────────────────┐»\n",
       "«q_0: ┤0                       ├┤0                       ├»\n",
       "«     │                        ││                        │»\n",
       "«q_1: ┤1 exp(-it ZXY)(0.30774) ├┤1 exp(-it XZY)(0.47282) ├»\n",
       "«     │                        ││                        │»\n",
       "«q_2: ┤2                       ├┤2                       ├»\n",
       "«     └────────────────────────┘└────────────────────────┘»\n",
       "«     ┌────────────────────────┐┌────────────────────────┐\n",
       "«q_0: ┤0                       ├┤0                       ├\n",
       "«     │                        ││                        │\n",
       "«q_1: ┤1 exp(-it ZYX)(0.49347) ├┤1 exp(-it YZX)(-1.1781) ├\n",
       "«     │                        ││                        │\n",
       "«q_2: ┤2                       ├┤2                       ├\n",
       "«     └────────────────────────┘└────────────────────────┘</pre>"
      ],
      "text/plain": [
       "      ░ ┌───────────────────────┐┌─────────────────────────┐»\n",
       "q_0: ─░─┤0                      ├┤0                        ├»\n",
       "      ░ │                       ││                         │»\n",
       "q_1: ─░─┤1 exp(-it YZX)(1.1781) ├┤1 exp(-it ZYX)(-0.49347) ├»\n",
       "      ░ │                       ││                         │»\n",
       "q_2: ─░─┤2                      ├┤2                        ├»\n",
       "      ░ └───────────────────────┘└─────────────────────────┘»\n",
       "«     ┌─────────────────────────┐┌─────────────────────────┐»\n",
       "«q_0: ┤0                        ├┤0                        ├»\n",
       "«     │                         ││                         │»\n",
       "«q_1: ┤1 exp(-it XZY)(-0.47282) ├┤1 exp(-it ZXY)(-0.30774) ├»\n",
       "«     │                         ││                         │»\n",
       "«q_2: ┤2                        ├┤2                        ├»\n",
       "«     └─────────────────────────┘└─────────────────────────┘»\n",
       "«     ┌───────────────────────┐┌─────────────────────────┐ ░ »\n",
       "«q_0: ┤0                      ├┤0                        ├─░─»\n",
       "«     │                       ││                         │ ░ »\n",
       "«q_1: ┤1 exp(-it XYZ)(1.1059) ├┤1 exp(-it YXZ)(-0.86749) ├─░─»\n",
       "«     │                       ││                         │ ░ »\n",
       "«q_2: ┤2                      ├┤2                        ├─░─»\n",
       "«     └───────────────────────┘└─────────────────────────┘ ░ »\n",
       "«     ┌───────────────────┐┌──────────────────┐┌───────────────────┐ ░ »\n",
       "«q_0: ┤0                  ├┤0                 ├┤0                  ├─░─»\n",
       "«     │                   ││                  ││                   │ ░ »\n",
       "«q_1: ┤1 exp(-it IXX)(-6) ├┤1 exp(-it IYY)(3) ├┤1 exp(-it IZZ)(-3) ├─░─»\n",
       "«     │                   ││                  ││                   │ ░ »\n",
       "«q_2: ┤2                  ├┤2                 ├┤2                  ├─░─»\n",
       "«     └───────────────────┘└──────────────────┘└───────────────────┘ ░ »\n",
       "«     ┌────────────────────────┐┌────────────────────────┐»\n",
       "«q_0: ┤0                       ├┤0                       ├»\n",
       "«     │                        ││                        │»\n",
       "«q_1: ┤1 exp(-it YXZ)(0.86749) ├┤1 exp(-it XYZ)(-1.1059) ├»\n",
       "«     │                        ││                        │»\n",
       "«q_2: ┤2                       ├┤2                       ├»\n",
       "«     └────────────────────────┘└────────────────────────┘»\n",
       "«     ┌────────────────────────┐┌────────────────────────┐»\n",
       "«q_0: ┤0                       ├┤0                       ├»\n",
       "«     │                        ││                        │»\n",
       "«q_1: ┤1 exp(-it ZXY)(0.30774) ├┤1 exp(-it XZY)(0.47282) ├»\n",
       "«     │                        ││                        │»\n",
       "«q_2: ┤2                       ├┤2                       ├»\n",
       "«     └────────────────────────┘└────────────────────────┘»\n",
       "«     ┌────────────────────────┐┌────────────────────────┐\n",
       "«q_0: ┤0                       ├┤0                       ├\n",
       "«     │                        ││                        │\n",
       "«q_1: ┤1 exp(-it ZYX)(0.49347) ├┤1 exp(-it YZX)(-1.1781) ├\n",
       "«     │                        ││                        │\n",
       "«q_2: ┤2                       ├┤2                       ├\n",
       "«     └────────────────────────┘└────────────────────────┘"
      ]
     },
     "execution_count": 919,
     "metadata": {},
     "output_type": "execute_result"
    }
   ],
   "source": [
    "from qiskit.circuit import QuantumCircuit\n",
    "from qiskit.quantum_info import Pauli\n",
    "\n",
    "time_evolve = 3\n",
    "\n",
    "num_qubits = heisenbergH.sites\n",
    "qc = QuantumCircuit(num_qubits)\n",
    "qc.barrier()\n",
    "\n",
    "\n",
    "# Note the order of gates:\n",
    "# first add K^\\dag\n",
    "# then H\n",
    "# then K.\n",
    "# Also note the order of gates within each loop.\n",
    "\n",
    "\n",
    "# Note order of qubits in qiskit (rightmost position is qubit 0) is the reverse of that in CQS.\n",
    "# Also note PauliEvolutionGate implements exp(-1j...) by definition.\n",
    "\n",
    "# K^\\dag.\n",
    "for ktuple, kcoef in list(zip(heisenbergC.k, heisenbergP.kCoefs)):\n",
    "    kstring = str(IO.paulilabel(ktuple))\n",
    "    gate = PauliEvolutionGate(Pauli(kstring[::-1]), time=kcoef) \n",
    "    qc.append(gate, range(num_qubits))\n",
    "\n",
    "qc.barrier()\n",
    "\n",
    "# H.\n",
    "for htuple, hcoef in zip(heisenbergC.h, heisenbergP.hCoefs):\n",
    "    hstring = str(IO.paulilabel(htuple))\n",
    "    gate = PauliEvolutionGate(Pauli(hstring[::-1]), time=np.real(hcoef)*time_evolve) # WLOG convert complex to real\n",
    "    qc.append(gate, range(num_qubits))\n",
    "\n",
    "qc.barrier()\n",
    "\n",
    "# K\n",
    "for ktuple, kcoef in reversed(list(zip(heisenbergC.k, heisenbergP.kCoefs))):\n",
    "    kstring = str(IO.paulilabel(ktuple))\n",
    "    gate = PauliEvolutionGate(Pauli(kstring[::-1]), time=-kcoef)\n",
    "    qc.append(gate, range(num_qubits))\n",
    "\n",
    "\n",
    "qc.draw()"
   ]
  },
  {
   "cell_type": "code",
   "execution_count": 920,
   "metadata": {},
   "outputs": [],
   "source": [
    "from qiskit import Aer, transpile\n",
    "unitary_simulator = Aer.get_backend('unitary_simulator')\n",
    "\n",
    "# Transpile circuit for simulator.\n",
    "qc_transp = transpile(qc, unitary_simulator)\n",
    "\n",
    "# Execute circuit on simulator.\n",
    "final_unitary_cartan = unitary_simulator.run(qc_transp).result().get_unitary()"
   ]
  },
  {
   "cell_type": "code",
   "execution_count": 921,
   "metadata": {},
   "outputs": [
    {
     "name": "stdout",
     "output_type": "stream",
     "text": [
      "matrix norm of the difference between the ideal propagator and that obtained by cartan decomposition: \n",
      " 7.769560961856694e-07\n"
     ]
    }
   ],
   "source": [
    "# compare with ideal result\n",
    "import scipy\n",
    "from qiskit.quantum_info import SparsePauliOp\n",
    "\n",
    "H = SparsePauliOp([\"XXI\", \"YYI\", \"ZZI\", \"IXX\", \"IYY\", \"IZZ\"], \n",
    "                  np.array([1, 1, 1, 1, 1, 1])).to_matrix()\n",
    "propagator = scipy.linalg.expm(-1j*H*time_evolve)\n",
    "\n",
    "matrix_norm = np.linalg.norm(propagator - final_unitary_cartan)\n",
    "print(\"matrix norm of the difference between the ideal propagator and that obtained by cartan decomposition: \\n\", matrix_norm)"
   ]
  },
  {
   "attachments": {},
   "cell_type": "markdown",
   "metadata": {},
   "source": [
    "### Do the same thing but with statevector_simulator and some random initial state"
   ]
  },
  {
   "cell_type": "code",
   "execution_count": 922,
   "metadata": {},
   "outputs": [
    {
     "data": {
      "text/html": [
       "<pre style=\"word-wrap: normal;white-space: pre;background: #fff0;line-height: 1.1;font-family: &quot;Courier New&quot;,Courier,monospace\">     »\n",
       "q_0: »\n",
       "     »\n",
       "q_1: »\n",
       "     »\n",
       "q_2: »\n",
       "     »\n",
       "«     ┌───────────────────────────────────────────────────────────────────────────────────────────────────────────────────────────────────────────────────────────┐»\n",
       "«q_0: ┤0                                                                                                                                                          ├»\n",
       "«     │                                                                                                                                                           │»\n",
       "«q_1: ┤1 Initialize(-0.07199+0.036391j,0.4594-0.12746j,0.075204-0.14684j,-0.27603+0.44592j,-0.27622-0.14241j,0.011144-0.5371j,0.10809-0.20537j,0.14423-0.064103j) ├»\n",
       "«     │                                                                                                                                                           │»\n",
       "«q_2: ┤2                                                                                                                                                          ├»\n",
       "«     └───────────────────────────────────────────────────────────────────────────────────────────────────────────────────────────────────────────────────────────┘»\n",
       "«      ░ ┌───────────────────────┐┌─────────────────────────┐»\n",
       "«q_0: ─░─┤0                      ├┤0                        ├»\n",
       "«      ░ │                       ││                         │»\n",
       "«q_1: ─░─┤1 exp(-it YZX)(1.1781) ├┤1 exp(-it ZYX)(-0.49347) ├»\n",
       "«      ░ │                       ││                         │»\n",
       "«q_2: ─░─┤2                      ├┤2                        ├»\n",
       "«      ░ └───────────────────────┘└─────────────────────────┘»\n",
       "«     ┌─────────────────────────┐┌─────────────────────────┐»\n",
       "«q_0: ┤0                        ├┤0                        ├»\n",
       "«     │                         ││                         │»\n",
       "«q_1: ┤1 exp(-it XZY)(-0.47282) ├┤1 exp(-it ZXY)(-0.30774) ├»\n",
       "«     │                         ││                         │»\n",
       "«q_2: ┤2                        ├┤2                        ├»\n",
       "«     └─────────────────────────┘└─────────────────────────┘»\n",
       "«     ┌───────────────────────┐┌─────────────────────────┐ ░ »\n",
       "«q_0: ┤0                      ├┤0                        ├─░─»\n",
       "«     │                       ││                         │ ░ »\n",
       "«q_1: ┤1 exp(-it XYZ)(1.1059) ├┤1 exp(-it YXZ)(-0.86749) ├─░─»\n",
       "«     │                       ││                         │ ░ »\n",
       "«q_2: ┤2                      ├┤2                        ├─░─»\n",
       "«     └───────────────────────┘└─────────────────────────┘ ░ »\n",
       "«     ┌───────────────────┐┌──────────────────┐┌───────────────────┐ ░ »\n",
       "«q_0: ┤0                  ├┤0                 ├┤0                  ├─░─»\n",
       "«     │                   ││                  ││                   │ ░ »\n",
       "«q_1: ┤1 exp(-it IXX)(-6) ├┤1 exp(-it IYY)(3) ├┤1 exp(-it IZZ)(-3) ├─░─»\n",
       "«     │                   ││                  ││                   │ ░ »\n",
       "«q_2: ┤2                  ├┤2                 ├┤2                  ├─░─»\n",
       "«     └───────────────────┘└──────────────────┘└───────────────────┘ ░ »\n",
       "«     ┌────────────────────────┐┌────────────────────────┐»\n",
       "«q_0: ┤0                       ├┤0                       ├»\n",
       "«     │                        ││                        │»\n",
       "«q_1: ┤1 exp(-it YXZ)(0.86749) ├┤1 exp(-it XYZ)(-1.1059) ├»\n",
       "«     │                        ││                        │»\n",
       "«q_2: ┤2                       ├┤2                       ├»\n",
       "«     └────────────────────────┘└────────────────────────┘»\n",
       "«     ┌────────────────────────┐┌────────────────────────┐»\n",
       "«q_0: ┤0                       ├┤0                       ├»\n",
       "«     │                        ││                        │»\n",
       "«q_1: ┤1 exp(-it ZXY)(0.30774) ├┤1 exp(-it XZY)(0.47282) ├»\n",
       "«     │                        ││                        │»\n",
       "«q_2: ┤2                       ├┤2                       ├»\n",
       "«     └────────────────────────┘└────────────────────────┘»\n",
       "«     ┌────────────────────────┐┌────────────────────────┐\n",
       "«q_0: ┤0                       ├┤0                       ├\n",
       "«     │                        ││                        │\n",
       "«q_1: ┤1 exp(-it ZYX)(0.49347) ├┤1 exp(-it YZX)(-1.1781) ├\n",
       "«     │                        ││                        │\n",
       "«q_2: ┤2                       ├┤2                       ├\n",
       "«     └────────────────────────┘└────────────────────────┘</pre>"
      ],
      "text/plain": [
       "     »\n",
       "q_0: »\n",
       "     »\n",
       "q_1: »\n",
       "     »\n",
       "q_2: »\n",
       "     »\n",
       "«     ┌───────────────────────────────────────────────────────────────────────────────────────────────────────────────────────────────────────────────────────────┐»\n",
       "«q_0: ┤0                                                                                                                                                          ├»\n",
       "«     │                                                                                                                                                           │»\n",
       "«q_1: ┤1 Initialize(-0.07199+0.036391j,0.4594-0.12746j,0.075204-0.14684j,-0.27603+0.44592j,-0.27622-0.14241j,0.011144-0.5371j,0.10809-0.20537j,0.14423-0.064103j) ├»\n",
       "«     │                                                                                                                                                           │»\n",
       "«q_2: ┤2                                                                                                                                                          ├»\n",
       "«     └───────────────────────────────────────────────────────────────────────────────────────────────────────────────────────────────────────────────────────────┘»\n",
       "«      ░ ┌───────────────────────┐┌─────────────────────────┐»\n",
       "«q_0: ─░─┤0                      ├┤0                        ├»\n",
       "«      ░ │                       ││                         │»\n",
       "«q_1: ─░─┤1 exp(-it YZX)(1.1781) ├┤1 exp(-it ZYX)(-0.49347) ├»\n",
       "«      ░ │                       ││                         │»\n",
       "«q_2: ─░─┤2                      ├┤2                        ├»\n",
       "«      ░ └───────────────────────┘└─────────────────────────┘»\n",
       "«     ┌─────────────────────────┐┌─────────────────────────┐»\n",
       "«q_0: ┤0                        ├┤0                        ├»\n",
       "«     │                         ││                         │»\n",
       "«q_1: ┤1 exp(-it XZY)(-0.47282) ├┤1 exp(-it ZXY)(-0.30774) ├»\n",
       "«     │                         ││                         │»\n",
       "«q_2: ┤2                        ├┤2                        ├»\n",
       "«     └─────────────────────────┘└─────────────────────────┘»\n",
       "«     ┌───────────────────────┐┌─────────────────────────┐ ░ »\n",
       "«q_0: ┤0                      ├┤0                        ├─░─»\n",
       "«     │                       ││                         │ ░ »\n",
       "«q_1: ┤1 exp(-it XYZ)(1.1059) ├┤1 exp(-it YXZ)(-0.86749) ├─░─»\n",
       "«     │                       ││                         │ ░ »\n",
       "«q_2: ┤2                      ├┤2                        ├─░─»\n",
       "«     └───────────────────────┘└─────────────────────────┘ ░ »\n",
       "«     ┌───────────────────┐┌──────────────────┐┌───────────────────┐ ░ »\n",
       "«q_0: ┤0                  ├┤0                 ├┤0                  ├─░─»\n",
       "«     │                   ││                  ││                   │ ░ »\n",
       "«q_1: ┤1 exp(-it IXX)(-6) ├┤1 exp(-it IYY)(3) ├┤1 exp(-it IZZ)(-3) ├─░─»\n",
       "«     │                   ││                  ││                   │ ░ »\n",
       "«q_2: ┤2                  ├┤2                 ├┤2                  ├─░─»\n",
       "«     └───────────────────┘└──────────────────┘└───────────────────┘ ░ »\n",
       "«     ┌────────────────────────┐┌────────────────────────┐»\n",
       "«q_0: ┤0                       ├┤0                       ├»\n",
       "«     │                        ││                        │»\n",
       "«q_1: ┤1 exp(-it YXZ)(0.86749) ├┤1 exp(-it XYZ)(-1.1059) ├»\n",
       "«     │                        ││                        │»\n",
       "«q_2: ┤2                       ├┤2                       ├»\n",
       "«     └────────────────────────┘└────────────────────────┘»\n",
       "«     ┌────────────────────────┐┌────────────────────────┐»\n",
       "«q_0: ┤0                       ├┤0                       ├»\n",
       "«     │                        ││                        │»\n",
       "«q_1: ┤1 exp(-it ZXY)(0.30774) ├┤1 exp(-it XZY)(0.47282) ├»\n",
       "«     │                        ││                        │»\n",
       "«q_2: ┤2                       ├┤2                       ├»\n",
       "«     └────────────────────────┘└────────────────────────┘»\n",
       "«     ┌────────────────────────┐┌────────────────────────┐\n",
       "«q_0: ┤0                       ├┤0                       ├\n",
       "«     │                        ││                        │\n",
       "«q_1: ┤1 exp(-it ZYX)(0.49347) ├┤1 exp(-it YZX)(-1.1781) ├\n",
       "«     │                        ││                        │\n",
       "«q_2: ┤2                       ├┤2                       ├\n",
       "«     └────────────────────────┘└────────────────────────┘"
      ]
     },
     "execution_count": 922,
     "metadata": {},
     "output_type": "execute_result"
    }
   ],
   "source": [
    "from qiskit.circuit import QuantumCircuit\n",
    "from qiskit.quantum_info import Pauli, random_statevector\n",
    "\n",
    "random_seed = 10\n",
    "time_evolve = 3\n",
    "\n",
    "num_qubits = heisenbergH.sites\n",
    "qc = QuantumCircuit(num_qubits)\n",
    "init_statevec = random_statevector(2**num_qubits, seed = random_seed)\n",
    "qc.initialize(init_statevec)\n",
    "qc.barrier()\n",
    "\n",
    "\n",
    "# Note the order of gates:\n",
    "# first add K^\\dag\n",
    "# then H\n",
    "# then K.\n",
    "# Also note the order of gates within each loop.\n",
    "\n",
    "# Note order of qubits in qiskit (rightmost position is qubit 0) is the reverse of that in CQS.\n",
    "# Also note PauliEvolutionGate implements exp(-1j...) by definition.\n",
    "\n",
    "# K^\\dag.\n",
    "for ktuple, kcoef in list(zip(heisenbergC.k, heisenbergP.kCoefs)):\n",
    "    kstring = str(IO.paulilabel(ktuple))\n",
    "    gate = PauliEvolutionGate(Pauli(kstring[::-1]), time=kcoef) \n",
    "    qc.append(gate, range(num_qubits))\n",
    "\n",
    "qc.barrier()\n",
    "\n",
    "# H.\n",
    "for htuple, hcoef in zip(heisenbergC.h, heisenbergP.hCoefs):\n",
    "    hstring = str(IO.paulilabel(htuple))\n",
    "    gate = PauliEvolutionGate(Pauli(hstring[::-1]), time=np.real(hcoef)*time_evolve) # WLOG convert complex to real\n",
    "    qc.append(gate, range(num_qubits))\n",
    "\n",
    "qc.barrier()\n",
    "\n",
    "# K.\n",
    "for ktuple, kcoef in reversed(list(zip(heisenbergC.k, heisenbergP.kCoefs))):\n",
    "    kstring = str(IO.paulilabel(ktuple))\n",
    "    gate = PauliEvolutionGate(Pauli(kstring[::-1]), time=-kcoef)\n",
    "    qc.append(gate, range(num_qubits))\n",
    "\n",
    "\n",
    "qc.draw()"
   ]
  },
  {
   "cell_type": "code",
   "execution_count": 923,
   "metadata": {},
   "outputs": [],
   "source": [
    "from qiskit import Aer, transpile\n",
    "\n",
    "# Retrieve statevector simulator.\n",
    "statevec_simulator = Aer.get_backend('statevector_simulator')\n",
    "\n",
    "# Transpile circuit for statevector simulator.\n",
    "qc_transp = transpile(qc, statevec_simulator)\n",
    "\n",
    "# Execute circuit on statevector simulator.\n",
    "final_statevec_cartan = statevec_simulator.run(qc_transp).result().get_statevector()"
   ]
  },
  {
   "cell_type": "code",
   "execution_count": 924,
   "metadata": {},
   "outputs": [
    {
     "name": "stdout",
     "output_type": "stream",
     "text": [
      "state fidelity between the ideal statevector and that obtained by evolving under a cartan decomposed circuit: \n",
      " 0.999999999999905\n"
     ]
    }
   ],
   "source": [
    "# Compare with ideal result.\n",
    "import scipy\n",
    "from qiskit.quantum_info import SparsePauliOp\n",
    "from qiskit.quantum_info import state_fidelity\n",
    "\n",
    "H = SparsePauliOp([\"XXI\", \"YYI\", \"ZZI\", \"IXX\", \"IYY\", \"IZZ\"], \n",
    "                  np.array([1, 1, 1, 1, 1, 1])).to_matrix()\n",
    "propagator = scipy.linalg.expm(-1j*H*time_evolve)\n",
    "final_statevec_ideal = propagator @ init_statevec.data\n",
    "\n",
    "# Note: do not use np.inner as that does not perform complex conjugation!!!\n",
    "fidelity = state_fidelity(final_statevec_ideal, final_statevec_cartan)\n",
    "print(\"state fidelity between the ideal statevector and that obtained by evolving under a cartan decomposed circuit: \\n\", fidelity)"
   ]
  }
 ],
 "metadata": {
  "kernelspec": {
   "display_name": "qiskit_stable_env",
   "language": "python",
   "name": "python3"
  },
  "language_info": {
   "codemirror_mode": {
    "name": "ipython",
    "version": 3
   },
   "file_extension": ".py",
   "mimetype": "text/x-python",
   "name": "python",
   "nbconvert_exporter": "python",
   "pygments_lexer": "ipython3",
   "version": "3.10.11"
  },
  "orig_nbformat": 4
 },
 "nbformat": 4,
 "nbformat_minor": 2
}
