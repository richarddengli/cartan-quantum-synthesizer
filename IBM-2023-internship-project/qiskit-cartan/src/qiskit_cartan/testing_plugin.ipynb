{
 "cells": [
  {
   "attachments": {},
   "cell_type": "markdown",
   "metadata": {},
   "source": [
    "This notebook is used to test the `cartan_plugin.py` file and to make sure the plugin is installed correctly."
   ]
  },
  {
   "cell_type": "code",
   "execution_count": 7,
   "metadata": {},
   "outputs": [],
   "source": [
    "from qiskit_cartan.cartan_plugin import *\n",
    "\n",
    "import logging\n",
    "logging.basicConfig(level='DEBUG')"
   ]
  },
  {
   "attachments": {},
   "cell_type": "markdown",
   "metadata": {},
   "source": [
    "#### Check `synth_cartan` works as intended with an example Heisenberg Hamiltonian"
   ]
  },
  {
   "cell_type": "code",
   "execution_count": 8,
   "metadata": {},
   "outputs": [
    {
     "name": "stdout",
     "output_type": "stream",
     "text": [
      "Optimization terminated successfully.\n",
      "         Current function value: -2.586419\n",
      "         Iterations: 13\n",
      "         Function evaluations: 22\n",
      "         Gradient evaluations: 22\n",
      "--- 0.26578283309936523 seconds ---\n",
      "Optimization Error:\n",
      "3.606967140699748e-12\n",
      "     ┌────────────────────────┐┌────────────────────────┐»\n",
      "q_0: ┤0                       ├┤0                       ├»\n",
      "     │                        ││                        │»\n",
      "q_1: ┤1 exp(-it XYZ)(-1.3459) ├┤1 exp(-it XZY)(0.77382) ├»\n",
      "     │                        ││                        │»\n",
      "q_2: ┤2                       ├┤2                       ├»\n",
      "     └────────────────────────┘└────────────────────────┘»\n",
      "«     ┌────────────────────────┐┌───────────────────────┐»\n",
      "«q_0: ┤0                       ├┤0                      ├»\n",
      "«     │                        ││                       │»\n",
      "«q_1: ┤1 exp(-it ZYX)(-1.1724) ├┤1 exp(-it YZX)(1.7887) ├»\n",
      "«     │                        ││                       │»\n",
      "«q_2: ┤2                       ├┤2                      ├»\n",
      "«     └────────────────────────┘└───────────────────────┘»\n",
      "«     ┌───────────────────────┐┌───────────────────────┐ ░ »\n",
      "«q_0: ┤0                      ├┤0                      ├─░─»\n",
      "«     │                       ││                       │ ░ »\n",
      "«q_1: ┤1 exp(-it YXZ)(1.2713) ├┤1 exp(-it ZXY)(2.7964) ├─░─»\n",
      "«     │                       ││                       │ ░ »\n",
      "«q_2: ┤2                      ├┤2                      ├─░─»\n",
      "«     └───────────────────────┘└───────────────────────┘ ░ »\n",
      "«     ┌───────────────────┐┌───────────────────┐┌───────────────────┐ ░ »\n",
      "«q_0: ┤0                  ├┤0                  ├┤0                  ├─░─»\n",
      "«     │                   ││                   ││                   │ ░ »\n",
      "«q_1: ┤1 exp(-it ZIZ)(-6) ├┤1 exp(-it IZZ)(-3) ├┤1 exp(-it ZZI)(-3) ├─░─»\n",
      "«     │                   ││                   ││                   │ ░ »\n",
      "«q_2: ┤2                  ├┤2                  ├┤2                  ├─░─»\n",
      "«     └───────────────────┘└───────────────────┘└───────────────────┘ ░ »\n",
      "«     ┌────────────────────────┐┌────────────────────────┐»\n",
      "«q_0: ┤0                       ├┤0                       ├»\n",
      "«     │                        ││                        │»\n",
      "«q_1: ┤1 exp(-it ZXY)(-2.7964) ├┤1 exp(-it YXZ)(-1.2713) ├»\n",
      "«     │                        ││                        │»\n",
      "«q_2: ┤2                       ├┤2                       ├»\n",
      "«     └────────────────────────┘└────────────────────────┘»\n",
      "«     ┌────────────────────────┐┌───────────────────────┐»\n",
      "«q_0: ┤0                       ├┤0                      ├»\n",
      "«     │                        ││                       │»\n",
      "«q_1: ┤1 exp(-it YZX)(-1.7887) ├┤1 exp(-it ZYX)(1.1724) ├»\n",
      "«     │                        ││                       │»\n",
      "«q_2: ┤2                       ├┤2                      ├»\n",
      "«     └────────────────────────┘└───────────────────────┘»\n",
      "«     ┌─────────────────────────┐┌───────────────────────┐\n",
      "«q_0: ┤0                        ├┤0                      ├\n",
      "«     │                         ││                       │\n",
      "«q_1: ┤1 exp(-it XZY)(-0.77382) ├┤1 exp(-it XYZ)(1.3459) ├\n",
      "«     │                         ││                       │\n",
      "«q_2: ┤2                        ├┤2                      ├\n",
      "«     └─────────────────────────┘└───────────────────────┘\n"
     ]
    }
   ],
   "source": [
    "from qiskit.circuit.library import PauliEvolutionGate\n",
    "from qiskit.quantum_info import SparsePauliOp\n",
    "test_heisenberg_ham = SparsePauliOp([\"XXI\", \"YYI\", \"ZZI\", \"IXX\", \"IYY\", \"IZZ\"], coeffs = [1,1,1,1,1,1])\n",
    "test_time_evolve = 3\n",
    "test_paulievolutiongate = PauliEvolutionGate(test_heisenberg_ham, time=test_time_evolve)\n",
    "qc = synth_cartan(test_paulievolutiongate, 0)\n",
    "print(qc)"
   ]
  },
  {
   "cell_type": "code",
   "execution_count": 9,
   "metadata": {},
   "outputs": [
    {
     "name": "stderr",
     "output_type": "stream",
     "text": [
      "DEBUG:stevedore.extension:found extension EntryPoint(name='basic', value='qiskit.transpiler.preset_passmanagers.builtin_plugins:BasicSwapPassManager', group='qiskit.transpiler.routing')\n",
      "DEBUG:stevedore.extension:found extension EntryPoint(name='lookahead', value='qiskit.transpiler.preset_passmanagers.builtin_plugins:LookaheadSwapPassManager', group='qiskit.transpiler.routing')\n",
      "DEBUG:stevedore.extension:found extension EntryPoint(name='none', value='qiskit.transpiler.preset_passmanagers.builtin_plugins:NoneRoutingPassManager', group='qiskit.transpiler.routing')\n",
      "DEBUG:stevedore.extension:found extension EntryPoint(name='sabre', value='qiskit.transpiler.preset_passmanagers.builtin_plugins:SabreSwapPassManager', group='qiskit.transpiler.routing')\n",
      "DEBUG:stevedore.extension:found extension EntryPoint(name='stochastic', value='qiskit.transpiler.preset_passmanagers.builtin_plugins:StochasticSwapPassManager', group='qiskit.transpiler.routing')\n",
      "DEBUG:stevedore.extension:found extension EntryPoint(name='toqm', value='qiskit_toqm.toqm_plugin:ToqmSwapPlugin', group='qiskit.transpiler.routing')\n",
      "INFO:qiskit.transpiler.runningpassmanager:Pass: ContainsInstruction - 0.00000 (ms)\n",
      "INFO:qiskit.transpiler.runningpassmanager:Pass: UnitarySynthesis - 0.00000 (ms)\n",
      "DEBUG:stevedore.extension:found extension EntryPoint(name='clifford.default', value='qiskit.transpiler.passes.synthesis.high_level_synthesis:DefaultSynthesisClifford', group='qiskit.synthesis')\n",
      "DEBUG:stevedore.extension:found extension EntryPoint(name='linear_function.default', value='qiskit.transpiler.passes.synthesis.high_level_synthesis:DefaultSynthesisLinearFunction', group='qiskit.synthesis')\n",
      "DEBUG:stevedore.extension:found extension EntryPoint(name='permutation.acg', value='qiskit.transpiler.passes.synthesis.high_level_synthesis:ACGSynthesisPermutation', group='qiskit.synthesis')\n",
      "DEBUG:stevedore.extension:found extension EntryPoint(name='permutation.basic', value='qiskit.transpiler.passes.synthesis.high_level_synthesis:BasicSynthesisPermutation', group='qiskit.synthesis')\n",
      "DEBUG:stevedore.extension:found extension EntryPoint(name='permutation.default', value='qiskit.transpiler.passes.synthesis.high_level_synthesis:BasicSynthesisPermutation', group='qiskit.synthesis')\n",
      "DEBUG:stevedore.extension:found extension EntryPoint(name='permutation.kms', value='qiskit.transpiler.passes.synthesis.high_level_synthesis:KMSSynthesisPermutation', group='qiskit.synthesis')\n",
      "DEBUG:stevedore.extension:found extension EntryPoint(name='PauliEvolution.cartan', value='qiskit_cartan.cartan_plugin:CartanPlugin', group='qiskit.synthesis')\n",
      "INFO:qiskit.transpiler.runningpassmanager:Pass: HighLevelSynthesis - 16.42752 (ms)\n",
      "INFO:qiskit.transpiler.runningpassmanager:Pass: UnrollCustomDefinitions - 65.02199 (ms)\n",
      "INFO:qiskit.transpiler.passes.basis.basis_translator:Begin BasisTranslator from source basis {('h', 1), ('barrier', 3), ('rz', 1), ('cx', 2), ('s', 1), ('sdg', 1), ('rzz', 2)} to target basis {'sx', 'cu1', 'cu3', 'snapshot', 'rzx', 'x', 'rz', 'tdg', 'mcsx', 'ryy', 's', 'multiplexer', 'mcp', 'swap', 'z', 'cz', 'set_unitary', 'rx', 'ccx', 'cu', 'rzz', 'sdg', 'mcswap', 'diagonal', 'reset', 'delay', 'mcy', 'save_state', 'csx', 'ry', 'u3', 'measure', 'mcz', 'mcr', 'cx', 'u1', 'barrier', 'r', 'mcry', 'pauli', 'rxx', 'y', 'u', 'unitary', 'sxdg', 'cp', 'cy', 'mcu1', 'save_unitary', 'mcx', 'mcrz', 'h', 'mcu3', 'p', 't', 'mcrx', 'mcu2', 'u2', 'mcu', 'id', 'cswap', 'mcphase', 'cu2'}.\n",
      "DEBUG:qiskit.transpiler.passes.basis.basis_translator:Begining basis search from {('h', 1), ('barrier', 3), ('rz', 1), ('cx', 2), ('s', 1), ('sdg', 1), ('rzz', 2)} to {'sx', 'cu1', 'cu3', 'snapshot', 'rzx', 'x', 'rz', 'tdg', 'mcsx', 'ryy', 's', 'multiplexer', 'mcp', 'swap', 'z', 'cz', 'set_unitary', 'rx', 'ccx', 'cu', 'rzz', 'sdg', 'mcswap', 'diagonal', 'reset', 'delay', 'mcy', 'save_state', 'csx', 'ry', 'u3', 'measure', 'mcz', 'mcr', 'cx', 'u1', 'barrier', 'r', 'mcry', 'pauli', 'rxx', 'y', 'u', 'unitary', 'sxdg', 'cp', 'cy', 'mcu1', 'save_unitary', 'mcx', 'mcrz', 'h', 'mcu3', 'p', 't', 'mcrx', 'mcu2', 'u2', 'mcu', 'id', 'cswap', 'mcphase', 'cu2'}.\n",
      "INFO:qiskit.transpiler.passes.basis.basis_translator:Basis translation path search completed in 0.000s.\n",
      "INFO:qiskit.transpiler.passes.basis.basis_translator:Basis translation paths composed in 0.000s.\n",
      "INFO:qiskit.transpiler.passes.basis.basis_translator:Basis translation instructions replaced in 0.000s.\n",
      "INFO:qiskit.transpiler.runningpassmanager:Pass: BasisTranslator - 16.01934 (ms)\n",
      "INFO:qiskit.transpiler.runningpassmanager:Pass: RemoveResetInZeroState - 0.00000 (ms)\n",
      "INFO:qiskit.transpiler.runningpassmanager:Pass: Depth - 0.00000 (ms)\n",
      "INFO:qiskit.transpiler.runningpassmanager:Pass: FixedPoint - 0.00000 (ms)\n",
      "INFO:qiskit.transpiler.runningpassmanager:Pass: Size - 0.00000 (ms)\n",
      "INFO:qiskit.transpiler.runningpassmanager:Pass: FixedPoint - 0.00000 (ms)\n",
      "INFO:qiskit.transpiler.runningpassmanager:Pass: Optimize1qGatesDecomposition - 64.49056 (ms)\n",
      "INFO:qiskit.transpiler.runningpassmanager:Pass: CXCancellation - 1.06907 (ms)\n",
      "INFO:qiskit.transpiler.runningpassmanager:Pass: GatesInBasis - 1.05286 (ms)\n",
      "INFO:qiskit.transpiler.runningpassmanager:Pass: Depth - 0.00000 (ms)\n",
      "INFO:qiskit.transpiler.runningpassmanager:Pass: FixedPoint - 0.00000 (ms)\n",
      "INFO:qiskit.transpiler.runningpassmanager:Pass: Size - 0.00000 (ms)\n",
      "INFO:qiskit.transpiler.runningpassmanager:Pass: FixedPoint - 0.00000 (ms)\n",
      "INFO:qiskit.transpiler.runningpassmanager:Pass: Optimize1qGatesDecomposition - 48.00105 (ms)\n",
      "INFO:qiskit.transpiler.runningpassmanager:Pass: CXCancellation - 0.00000 (ms)\n",
      "INFO:qiskit.transpiler.runningpassmanager:Pass: GatesInBasis - 0.00000 (ms)\n",
      "INFO:qiskit.transpiler.runningpassmanager:Pass: Depth - 0.00000 (ms)\n",
      "INFO:qiskit.transpiler.runningpassmanager:Pass: FixedPoint - 0.00000 (ms)\n",
      "INFO:qiskit.transpiler.runningpassmanager:Pass: Size - 0.00000 (ms)\n",
      "INFO:qiskit.transpiler.runningpassmanager:Pass: FixedPoint - 0.00000 (ms)\n",
      "INFO:qiskit.transpiler.runningpassmanager:Pass: ContainsInstruction - 0.00000 (ms)\n",
      "INFO:qiskit.compiler.transpiler:Total Transpile Time - 266.53957 (ms)\n"
     ]
    },
    {
     "name": "stdout",
     "output_type": "stream",
     "text": [
      "\n",
      "\n",
      "matrix norm of the difference between the ideal propagator and that obtained by cartan decomposition: \n",
      " 7.494421707149518e-07\n"
     ]
    }
   ],
   "source": [
    "from qiskit import Aer, transpile\n",
    "\n",
    "unitary_simulator = Aer.get_backend('unitary_simulator')\n",
    "qc_transp = transpile(qc, unitary_simulator)\n",
    "final_unitary_cartan = unitary_simulator.run(qc_transp).result().get_unitary()\n",
    "\n",
    "import scipy\n",
    "from qiskit.quantum_info import SparsePauliOp\n",
    "\n",
    "H = SparsePauliOp([\"XXI\", \"YYI\", \"ZZI\", \"IXX\", \"IYY\", \"IZZ\"], \n",
    "                  np.array([1, 1, 1, 1, 1, 1])).to_matrix()\n",
    "propagator = scipy.linalg.expm(-1j*H*test_time_evolve)\n",
    "matrix_norm = np.linalg.norm(propagator - final_unitary_cartan)\n",
    "print(\"\\n\")\n",
    "print(\"matrix norm of the difference between the ideal propagator and that obtained by cartan decomposition: \\n\", matrix_norm)"
   ]
  },
  {
   "attachments": {},
   "cell_type": "markdown",
   "metadata": {},
   "source": [
    "#### Check our plugin is installed"
   ]
  },
  {
   "cell_type": "code",
   "execution_count": 10,
   "metadata": {},
   "outputs": [
    {
     "name": "stderr",
     "output_type": "stream",
     "text": [
      "DEBUG:stevedore.extension:found extension EntryPoint(name='clifford.default', value='qiskit.transpiler.passes.synthesis.high_level_synthesis:DefaultSynthesisClifford', group='qiskit.synthesis')\n",
      "DEBUG:stevedore.extension:found extension EntryPoint(name='linear_function.default', value='qiskit.transpiler.passes.synthesis.high_level_synthesis:DefaultSynthesisLinearFunction', group='qiskit.synthesis')\n",
      "DEBUG:stevedore.extension:found extension EntryPoint(name='permutation.acg', value='qiskit.transpiler.passes.synthesis.high_level_synthesis:ACGSynthesisPermutation', group='qiskit.synthesis')\n",
      "DEBUG:stevedore.extension:found extension EntryPoint(name='permutation.basic', value='qiskit.transpiler.passes.synthesis.high_level_synthesis:BasicSynthesisPermutation', group='qiskit.synthesis')\n",
      "DEBUG:stevedore.extension:found extension EntryPoint(name='permutation.default', value='qiskit.transpiler.passes.synthesis.high_level_synthesis:BasicSynthesisPermutation', group='qiskit.synthesis')\n",
      "DEBUG:stevedore.extension:found extension EntryPoint(name='permutation.kms', value='qiskit.transpiler.passes.synthesis.high_level_synthesis:KMSSynthesisPermutation', group='qiskit.synthesis')\n",
      "DEBUG:stevedore.extension:found extension EntryPoint(name='PauliEvolution.cartan', value='qiskit_cartan.cartan_plugin:CartanPlugin', group='qiskit.synthesis')\n"
     ]
    },
    {
     "name": "stdout",
     "output_type": "stream",
     "text": [
      "['clifford.default', 'linear_function.default', 'permutation.acg', 'permutation.basic', 'permutation.default', 'permutation.kms', 'PauliEvolution.cartan']\n"
     ]
    }
   ],
   "source": [
    "from qiskit.transpiler.passes.synthesis.plugin import HighLevelSynthesisPluginManager\n",
    "HLS_plugin_manager = HighLevelSynthesisPluginManager()\n",
    "print(HLS_plugin_manager.plugins.names())"
   ]
  },
  {
   "attachments": {},
   "cell_type": "markdown",
   "metadata": {},
   "source": [
    "#### Test the pass"
   ]
  },
  {
   "cell_type": "code",
   "execution_count": 11,
   "metadata": {},
   "outputs": [
    {
     "name": "stdout",
     "output_type": "stream",
     "text": [
      "before: \n"
     ]
    },
    {
     "data": {
      "text/html": [
       "<pre style=\"word-wrap: normal;white-space: pre;background: #fff0;line-height: 1.1;font-family: &quot;Courier New&quot;,Courier,monospace\">     ┌──────────────────────────────────────────────────┐\n",
       "q_0: ┤0                                                 ├\n",
       "     │                                                  │\n",
       "q_1: ┤1 exp(-it (XXI + YYI + ZZI + IXX + IYY + IZZ))(3) ├\n",
       "     │                                                  │\n",
       "q_2: ┤2                                                 ├\n",
       "     └──────────────────────────────────────────────────┘</pre>"
      ],
      "text/plain": [
       "     ┌──────────────────────────────────────────────────┐\n",
       "q_0: ┤0                                                 ├\n",
       "     │                                                  │\n",
       "q_1: ┤1 exp(-it (XXI + YYI + ZZI + IXX + IYY + IZZ))(3) ├\n",
       "     │                                                  │\n",
       "q_2: ┤2                                                 ├\n",
       "     └──────────────────────────────────────────────────┘"
      ]
     },
     "execution_count": 11,
     "metadata": {},
     "output_type": "execute_result"
    }
   ],
   "source": [
    "from qiskit.transpiler.passes.synthesis.high_level_synthesis import HighLevelSynthesis\n",
    "from qiskit.transpiler import PassManager\n",
    "\n",
    "qc_before = QuantumCircuit(3)\n",
    "qc_before.append(test_paulievolutiongate, range(3))\n",
    "print(\"before: \")\n",
    "qc_before.draw()"
   ]
  },
  {
   "cell_type": "code",
   "execution_count": 12,
   "metadata": {},
   "outputs": [
    {
     "name": "stderr",
     "output_type": "stream",
     "text": [
      "DEBUG:stevedore.extension:found extension EntryPoint(name='clifford.default', value='qiskit.transpiler.passes.synthesis.high_level_synthesis:DefaultSynthesisClifford', group='qiskit.synthesis')\n",
      "DEBUG:stevedore.extension:found extension EntryPoint(name='linear_function.default', value='qiskit.transpiler.passes.synthesis.high_level_synthesis:DefaultSynthesisLinearFunction', group='qiskit.synthesis')\n",
      "DEBUG:stevedore.extension:found extension EntryPoint(name='permutation.acg', value='qiskit.transpiler.passes.synthesis.high_level_synthesis:ACGSynthesisPermutation', group='qiskit.synthesis')\n",
      "DEBUG:stevedore.extension:found extension EntryPoint(name='permutation.basic', value='qiskit.transpiler.passes.synthesis.high_level_synthesis:BasicSynthesisPermutation', group='qiskit.synthesis')\n",
      "DEBUG:stevedore.extension:found extension EntryPoint(name='permutation.default', value='qiskit.transpiler.passes.synthesis.high_level_synthesis:BasicSynthesisPermutation', group='qiskit.synthesis')\n",
      "DEBUG:stevedore.extension:found extension EntryPoint(name='permutation.kms', value='qiskit.transpiler.passes.synthesis.high_level_synthesis:KMSSynthesisPermutation', group='qiskit.synthesis')\n",
      "DEBUG:stevedore.extension:found extension EntryPoint(name='PauliEvolution.cartan', value='qiskit_cartan.cartan_plugin:CartanPlugin', group='qiskit.synthesis')\n"
     ]
    },
    {
     "name": "stdout",
     "output_type": "stream",
     "text": [
      "Running Cartan Synthesis Plugin...\n"
     ]
    },
    {
     "name": "stderr",
     "output_type": "stream",
     "text": [
      "INFO:qiskit.transpiler.runningpassmanager:Pass: HighLevelSynthesis - 217.30447 (ms)\n"
     ]
    },
    {
     "name": "stdout",
     "output_type": "stream",
     "text": [
      "Optimization terminated successfully.\n",
      "         Current function value: -2.586419\n",
      "         Iterations: 13\n",
      "         Function evaluations: 22\n",
      "         Gradient evaluations: 22\n",
      "--- 0.19188475608825684 seconds ---\n",
      "Optimization Error:\n",
      "3.606967140699748e-12\n"
     ]
    },
    {
     "data": {
      "text/html": [
       "<pre style=\"word-wrap: normal;white-space: pre;background: #fff0;line-height: 1.1;font-family: &quot;Courier New&quot;,Courier,monospace\">     ┌────────────────────────┐┌────────────────────────┐»\n",
       "q_0: ┤0                       ├┤0                       ├»\n",
       "     │                        ││                        │»\n",
       "q_1: ┤1 exp(-it XYZ)(-1.3459) ├┤1 exp(-it XZY)(0.77382) ├»\n",
       "     │                        ││                        │»\n",
       "q_2: ┤2                       ├┤2                       ├»\n",
       "     └────────────────────────┘└────────────────────────┘»\n",
       "«     ┌────────────────────────┐┌───────────────────────┐»\n",
       "«q_0: ┤0                       ├┤0                      ├»\n",
       "«     │                        ││                       │»\n",
       "«q_1: ┤1 exp(-it ZYX)(-1.1724) ├┤1 exp(-it YZX)(1.7887) ├»\n",
       "«     │                        ││                       │»\n",
       "«q_2: ┤2                       ├┤2                      ├»\n",
       "«     └────────────────────────┘└───────────────────────┘»\n",
       "«     ┌───────────────────────┐┌───────────────────────┐ ░ »\n",
       "«q_0: ┤0                      ├┤0                      ├─░─»\n",
       "«     │                       ││                       │ ░ »\n",
       "«q_1: ┤1 exp(-it YXZ)(1.2713) ├┤1 exp(-it ZXY)(2.7964) ├─░─»\n",
       "«     │                       ││                       │ ░ »\n",
       "«q_2: ┤2                      ├┤2                      ├─░─»\n",
       "«     └───────────────────────┘└───────────────────────┘ ░ »\n",
       "«     ┌───────────────────┐┌───────────────────┐┌───────────────────┐ ░ »\n",
       "«q_0: ┤0                  ├┤0                  ├┤0                  ├─░─»\n",
       "«     │                   ││                   ││                   │ ░ »\n",
       "«q_1: ┤1 exp(-it ZIZ)(-6) ├┤1 exp(-it IZZ)(-3) ├┤1 exp(-it ZZI)(-3) ├─░─»\n",
       "«     │                   ││                   ││                   │ ░ »\n",
       "«q_2: ┤2                  ├┤2                  ├┤2                  ├─░─»\n",
       "«     └───────────────────┘└───────────────────┘└───────────────────┘ ░ »\n",
       "«     ┌────────────────────────┐┌────────────────────────┐»\n",
       "«q_0: ┤0                       ├┤0                       ├»\n",
       "«     │                        ││                        │»\n",
       "«q_1: ┤1 exp(-it ZXY)(-2.7964) ├┤1 exp(-it YXZ)(-1.2713) ├»\n",
       "«     │                        ││                        │»\n",
       "«q_2: ┤2                       ├┤2                       ├»\n",
       "«     └────────────────────────┘└────────────────────────┘»\n",
       "«     ┌────────────────────────┐┌───────────────────────┐»\n",
       "«q_0: ┤0                       ├┤0                      ├»\n",
       "«     │                        ││                       │»\n",
       "«q_1: ┤1 exp(-it YZX)(-1.7887) ├┤1 exp(-it ZYX)(1.1724) ├»\n",
       "«     │                        ││                       │»\n",
       "«q_2: ┤2                       ├┤2                      ├»\n",
       "«     └────────────────────────┘└───────────────────────┘»\n",
       "«     ┌─────────────────────────┐┌───────────────────────┐\n",
       "«q_0: ┤0                        ├┤0                      ├\n",
       "«     │                         ││                       │\n",
       "«q_1: ┤1 exp(-it XZY)(-0.77382) ├┤1 exp(-it XYZ)(1.3459) ├\n",
       "«     │                         ││                       │\n",
       "«q_2: ┤2                        ├┤2                      ├\n",
       "«     └─────────────────────────┘└───────────────────────┘</pre>"
      ],
      "text/plain": [
       "     ┌────────────────────────┐┌────────────────────────┐»\n",
       "q_0: ┤0                       ├┤0                       ├»\n",
       "     │                        ││                        │»\n",
       "q_1: ┤1 exp(-it XYZ)(-1.3459) ├┤1 exp(-it XZY)(0.77382) ├»\n",
       "     │                        ││                        │»\n",
       "q_2: ┤2                       ├┤2                       ├»\n",
       "     └────────────────────────┘└────────────────────────┘»\n",
       "«     ┌────────────────────────┐┌───────────────────────┐»\n",
       "«q_0: ┤0                       ├┤0                      ├»\n",
       "«     │                        ││                       │»\n",
       "«q_1: ┤1 exp(-it ZYX)(-1.1724) ├┤1 exp(-it YZX)(1.7887) ├»\n",
       "«     │                        ││                       │»\n",
       "«q_2: ┤2                       ├┤2                      ├»\n",
       "«     └────────────────────────┘└───────────────────────┘»\n",
       "«     ┌───────────────────────┐┌───────────────────────┐ ░ »\n",
       "«q_0: ┤0                      ├┤0                      ├─░─»\n",
       "«     │                       ││                       │ ░ »\n",
       "«q_1: ┤1 exp(-it YXZ)(1.2713) ├┤1 exp(-it ZXY)(2.7964) ├─░─»\n",
       "«     │                       ││                       │ ░ »\n",
       "«q_2: ┤2                      ├┤2                      ├─░─»\n",
       "«     └───────────────────────┘└───────────────────────┘ ░ »\n",
       "«     ┌───────────────────┐┌───────────────────┐┌───────────────────┐ ░ »\n",
       "«q_0: ┤0                  ├┤0                  ├┤0                  ├─░─»\n",
       "«     │                   ││                   ││                   │ ░ »\n",
       "«q_1: ┤1 exp(-it ZIZ)(-6) ├┤1 exp(-it IZZ)(-3) ├┤1 exp(-it ZZI)(-3) ├─░─»\n",
       "«     │                   ││                   ││                   │ ░ »\n",
       "«q_2: ┤2                  ├┤2                  ├┤2                  ├─░─»\n",
       "«     └───────────────────┘└───────────────────┘└───────────────────┘ ░ »\n",
       "«     ┌────────────────────────┐┌────────────────────────┐»\n",
       "«q_0: ┤0                       ├┤0                       ├»\n",
       "«     │                        ││                        │»\n",
       "«q_1: ┤1 exp(-it ZXY)(-2.7964) ├┤1 exp(-it YXZ)(-1.2713) ├»\n",
       "«     │                        ││                        │»\n",
       "«q_2: ┤2                       ├┤2                       ├»\n",
       "«     └────────────────────────┘└────────────────────────┘»\n",
       "«     ┌────────────────────────┐┌───────────────────────┐»\n",
       "«q_0: ┤0                       ├┤0                      ├»\n",
       "«     │                        ││                       │»\n",
       "«q_1: ┤1 exp(-it YZX)(-1.7887) ├┤1 exp(-it ZYX)(1.1724) ├»\n",
       "«     │                        ││                       │»\n",
       "«q_2: ┤2                       ├┤2                      ├»\n",
       "«     └────────────────────────┘└───────────────────────┘»\n",
       "«     ┌─────────────────────────┐┌───────────────────────┐\n",
       "«q_0: ┤0                        ├┤0                      ├\n",
       "«     │                         ││                       │\n",
       "«q_1: ┤1 exp(-it XZY)(-0.77382) ├┤1 exp(-it XYZ)(1.3459) ├\n",
       "«     │                         ││                       │\n",
       "«q_2: ┤2                        ├┤2                      ├\n",
       "«     └─────────────────────────┘└───────────────────────┘"
      ]
     },
     "execution_count": 12,
     "metadata": {},
     "output_type": "execute_result"
    }
   ],
   "source": [
    "from qiskit.transpiler.passes.synthesis.high_level_synthesis import HLSConfig\n",
    "\n",
    "hls_config = HLSConfig(PauliEvolution=[(\"cartan\", {\"random_seed\":0})])\n",
    "pm = PassManager()\n",
    "pm.append(HighLevelSynthesis(hls_config=hls_config))\n",
    "qc_after = pm.run(qc_before)\n",
    "qc_after.draw()"
   ]
  }
 ],
 "metadata": {
  "kernelspec": {
   "display_name": "qiskit_stable_env",
   "language": "python",
   "name": "python3"
  },
  "language_info": {
   "codemirror_mode": {
    "name": "ipython",
    "version": 3
   },
   "file_extension": ".py",
   "mimetype": "text/x-python",
   "name": "python",
   "nbconvert_exporter": "python",
   "pygments_lexer": "ipython3",
   "version": "3.10.11"
  },
  "orig_nbformat": 4
 },
 "nbformat": 4,
 "nbformat_minor": 2
}
