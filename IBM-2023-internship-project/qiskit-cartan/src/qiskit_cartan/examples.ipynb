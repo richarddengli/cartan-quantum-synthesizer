{
 "cells": [
  {
   "cell_type": "code",
   "execution_count": 7,
   "metadata": {},
   "outputs": [],
   "source": [
    "from qiskit_cartan.cartan_plugin import *\n",
    "\n",
    "import logging\n",
    "logging.basicConfig(level='DEBUG')"
   ]
  },
  {
   "attachments": {},
   "cell_type": "markdown",
   "metadata": {},
   "source": [
    "#### Check `synth_cartan` works as intended with an example Heisenberg Hamiltonian"
   ]
  },
  {
   "cell_type": "code",
   "execution_count": 8,
   "metadata": {},
   "outputs": [
    {
     "name": "stdout",
     "output_type": "stream",
     "text": [
      "Optimization terminated successfully.\n",
      "         Current function value: -2.303234\n",
      "         Iterations: 15\n",
      "         Function evaluations: 18\n",
      "         Gradient evaluations: 18\n",
      "--- 0.0714879035949707 seconds ---\n",
      "Optimization Error:\n",
      "3.878611739499617e-12\n",
      "     ┌───────────────────────┐┌─────────────────────────┐»\n",
      "q_0: ┤0                      ├┤0                        ├»\n",
      "     │                       ││                         │»\n",
      "q_1: ┤1 exp(-it YZX)(1.1781) ├┤1 exp(-it ZYX)(-0.49347) ├»\n",
      "     │                       ││                         │»\n",
      "q_2: ┤2                      ├┤2                        ├»\n",
      "     └───────────────────────┘└─────────────────────────┘»\n",
      "«     ┌─────────────────────────┐┌─────────────────────────┐»\n",
      "«q_0: ┤0                        ├┤0                        ├»\n",
      "«     │                         ││                         │»\n",
      "«q_1: ┤1 exp(-it XZY)(-0.47282) ├┤1 exp(-it ZXY)(-0.30774) ├»\n",
      "«     │                         ││                         │»\n",
      "«q_2: ┤2                        ├┤2                        ├»\n",
      "«     └─────────────────────────┘└─────────────────────────┘»\n",
      "«     ┌───────────────────────┐┌─────────────────────────┐ ░ »\n",
      "«q_0: ┤0                      ├┤0                        ├─░─»\n",
      "«     │                       ││                         │ ░ »\n",
      "«q_1: ┤1 exp(-it XYZ)(1.1059) ├┤1 exp(-it YXZ)(-0.86749) ├─░─»\n",
      "«     │                       ││                         │ ░ »\n",
      "«q_2: ┤2                      ├┤2                        ├─░─»\n",
      "«     └───────────────────────┘└─────────────────────────┘ ░ »\n",
      "«     ┌───────────────────┐┌──────────────────┐┌───────────────────┐ ░ »\n",
      "«q_0: ┤0                  ├┤0                 ├┤0                  ├─░─»\n",
      "«     │                   ││                  ││                   │ ░ »\n",
      "«q_1: ┤1 exp(-it IXX)(-6) ├┤1 exp(-it IYY)(3) ├┤1 exp(-it IZZ)(-3) ├─░─»\n",
      "«     │                   ││                  ││                   │ ░ »\n",
      "«q_2: ┤2                  ├┤2                 ├┤2                  ├─░─»\n",
      "«     └───────────────────┘└──────────────────┘└───────────────────┘ ░ »\n",
      "«     ┌────────────────────────┐┌────────────────────────┐»\n",
      "«q_0: ┤0                       ├┤0                       ├»\n",
      "«     │                        ││                        │»\n",
      "«q_1: ┤1 exp(-it YXZ)(0.86749) ├┤1 exp(-it XYZ)(-1.1059) ├»\n",
      "«     │                        ││                        │»\n",
      "«q_2: ┤2                       ├┤2                       ├»\n",
      "«     └────────────────────────┘└────────────────────────┘»\n",
      "«     ┌────────────────────────┐┌────────────────────────┐»\n",
      "«q_0: ┤0                       ├┤0                       ├»\n",
      "«     │                        ││                        │»\n",
      "«q_1: ┤1 exp(-it ZXY)(0.30774) ├┤1 exp(-it XZY)(0.47282) ├»\n",
      "«     │                        ││                        │»\n",
      "«q_2: ┤2                       ├┤2                       ├»\n",
      "«     └────────────────────────┘└────────────────────────┘»\n",
      "«     ┌────────────────────────┐┌────────────────────────┐\n",
      "«q_0: ┤0                       ├┤0                       ├\n",
      "«     │                        ││                        │\n",
      "«q_1: ┤1 exp(-it ZYX)(0.49347) ├┤1 exp(-it YZX)(-1.1781) ├\n",
      "«     │                        ││                        │\n",
      "«q_2: ┤2                       ├┤2                       ├\n",
      "«     └────────────────────────┘└────────────────────────┘\n"
     ]
    }
   ],
   "source": [
    "from qiskit.circuit.library import PauliEvolutionGate\n",
    "from qiskit.opflow import I, X, Y, Z\n",
    "test_heisenberg_ham = (X^X^I) + (Y^Y^I) + (Z^Z^I) + (I^X^X) + (I^Y^Y) + (I^Z^Z)\n",
    "test_time_evolve = 3\n",
    "test_paulievolutiongate = PauliEvolutionGate(test_heisenberg_ham, time=test_time_evolve)\n",
    "qc = synth_cartan(test_paulievolutiongate)\n",
    "print(qc)"
   ]
  },
  {
   "cell_type": "code",
   "execution_count": 9,
   "metadata": {},
   "outputs": [
    {
     "name": "stderr",
     "output_type": "stream",
     "text": [
      "DEBUG:stevedore.extension:found extension EntryPoint(name='basic', value='qiskit.transpiler.preset_passmanagers.builtin_plugins:BasicSwapPassManager', group='qiskit.transpiler.routing')\n",
      "DEBUG:stevedore.extension:found extension EntryPoint(name='lookahead', value='qiskit.transpiler.preset_passmanagers.builtin_plugins:LookaheadSwapPassManager', group='qiskit.transpiler.routing')\n",
      "DEBUG:stevedore.extension:found extension EntryPoint(name='none', value='qiskit.transpiler.preset_passmanagers.builtin_plugins:NoneRoutingPassManager', group='qiskit.transpiler.routing')\n",
      "DEBUG:stevedore.extension:found extension EntryPoint(name='sabre', value='qiskit.transpiler.preset_passmanagers.builtin_plugins:SabreSwapPassManager', group='qiskit.transpiler.routing')\n",
      "DEBUG:stevedore.extension:found extension EntryPoint(name='stochastic', value='qiskit.transpiler.preset_passmanagers.builtin_plugins:StochasticSwapPassManager', group='qiskit.transpiler.routing')\n",
      "DEBUG:stevedore.extension:found extension EntryPoint(name='toqm', value='qiskit_toqm.toqm_plugin:ToqmSwapPlugin', group='qiskit.transpiler.routing')\n",
      "INFO:qiskit.transpiler.runningpassmanager:Pass: ContainsInstruction - 0.00000 (ms)\n",
      "INFO:qiskit.transpiler.runningpassmanager:Pass: UnitarySynthesis - 0.00000 (ms)\n",
      "DEBUG:stevedore.extension:found extension EntryPoint(name='clifford.default', value='qiskit.transpiler.passes.synthesis.high_level_synthesis:DefaultSynthesisClifford', group='qiskit.synthesis')\n",
      "DEBUG:stevedore.extension:found extension EntryPoint(name='linear_function.default', value='qiskit.transpiler.passes.synthesis.high_level_synthesis:DefaultSynthesisLinearFunction', group='qiskit.synthesis')\n",
      "DEBUG:stevedore.extension:found extension EntryPoint(name='permutation.acg', value='qiskit.transpiler.passes.synthesis.high_level_synthesis:ACGSynthesisPermutation', group='qiskit.synthesis')\n",
      "DEBUG:stevedore.extension:found extension EntryPoint(name='permutation.basic', value='qiskit.transpiler.passes.synthesis.high_level_synthesis:BasicSynthesisPermutation', group='qiskit.synthesis')\n",
      "DEBUG:stevedore.extension:found extension EntryPoint(name='permutation.default', value='qiskit.transpiler.passes.synthesis.high_level_synthesis:BasicSynthesisPermutation', group='qiskit.synthesis')\n",
      "DEBUG:stevedore.extension:found extension EntryPoint(name='permutation.kms', value='qiskit.transpiler.passes.synthesis.high_level_synthesis:KMSSynthesisPermutation', group='qiskit.synthesis')\n",
      "DEBUG:stevedore.extension:found extension EntryPoint(name='paulievolutiongate.cartan', value='qiskit_cartan.cartan_plugin:CartanPlugin', group='qiskit.synthesis')\n",
      "DEBUG:stevedore.extension:found extension EntryPoint(name='PauliEvolution.cartan2', value='qiskit_cartan.cartan_plugin:CartanPlugin', group='qiskit.synthesis')\n",
      "INFO:qiskit.transpiler.runningpassmanager:Pass: HighLevelSynthesis - 6.00147 (ms)\n",
      "INFO:qiskit.transpiler.runningpassmanager:Pass: UnrollCustomDefinitions - 18.00680 (ms)\n",
      "INFO:qiskit.transpiler.passes.basis.basis_translator:Begin BasisTranslator from source basis {('sdg', 1), ('s', 1), ('cx', 2), ('barrier', 3), ('h', 1), ('rzz', 2), ('ryy', 2), ('rxx', 2), ('rz', 1)} to target basis {'h', 'mcz', 'rzx', 'ryy', 'cz', 'cu', 'mcphase', 'mcr', 'z', 'mcswap', 'cy', 'snapshot', 'diagonal', 'cu2', 'set_unitary', 'measure', 'mcy', 'save_state', 'ry', 'mcu2', 'csx', 'rxx', 'sx', 'cp', 'tdg', 'rzz', 'cswap', 'cu1', 'rx', 'mcrx', 'cu3', 'mcu3', 'r', 'p', 't', 'u1', 'x', 'barrier', 'mcx', 'y', 'mcsx', 'u', 'rz', 'u2', 'mcry', 'cx', 'sdg', 'save_unitary', 'delay', 'id', 'mcp', 'pauli', 'multiplexer', 'u3', 'sxdg', 'ccx', 'mcu', 'mcu1', 'mcrz', 'unitary', 's', 'reset', 'swap'}.\n",
      "DEBUG:qiskit.transpiler.passes.basis.basis_translator:Begining basis search from {('sdg', 1), ('s', 1), ('cx', 2), ('barrier', 3), ('h', 1), ('rzz', 2), ('ryy', 2), ('rxx', 2), ('rz', 1)} to {'h', 'mcz', 'rzx', 'ryy', 'cz', 'cu', 'mcphase', 'mcr', 'z', 'mcswap', 'cy', 'snapshot', 'diagonal', 'cu2', 'set_unitary', 'measure', 'mcy', 'save_state', 'ry', 'mcu2', 'csx', 'rxx', 'sx', 'cp', 'tdg', 'rzz', 'cswap', 'cu1', 'rx', 'mcrx', 'cu3', 'mcu3', 'r', 'p', 't', 'u1', 'x', 'barrier', 'mcx', 'y', 'mcsx', 'u', 'rz', 'u2', 'mcry', 'cx', 'sdg', 'save_unitary', 'delay', 'id', 'mcp', 'pauli', 'multiplexer', 'u3', 'sxdg', 'ccx', 'mcu', 'mcu1', 'mcrz', 'unitary', 's', 'reset', 'swap'}.\n",
      "INFO:qiskit.transpiler.passes.basis.basis_translator:Basis translation path search completed in 0.000s.\n",
      "INFO:qiskit.transpiler.passes.basis.basis_translator:Basis translation paths composed in 0.001s.\n",
      "INFO:qiskit.transpiler.passes.basis.basis_translator:Basis translation instructions replaced in 0.001s.\n",
      "INFO:qiskit.transpiler.runningpassmanager:Pass: BasisTranslator - 7.00092 (ms)\n",
      "INFO:qiskit.transpiler.runningpassmanager:Pass: RemoveResetInZeroState - 0.00000 (ms)\n",
      "INFO:qiskit.transpiler.runningpassmanager:Pass: Depth - 0.00000 (ms)\n",
      "INFO:qiskit.transpiler.runningpassmanager:Pass: FixedPoint - 0.00000 (ms)\n",
      "INFO:qiskit.transpiler.runningpassmanager:Pass: Size - 0.00000 (ms)\n",
      "INFO:qiskit.transpiler.runningpassmanager:Pass: FixedPoint - 0.00000 (ms)\n",
      "INFO:qiskit.transpiler.runningpassmanager:Pass: Optimize1qGatesDecomposition - 21.01731 (ms)\n",
      "INFO:qiskit.transpiler.runningpassmanager:Pass: CXCancellation - 0.00000 (ms)\n",
      "INFO:qiskit.transpiler.runningpassmanager:Pass: GatesInBasis - 0.00000 (ms)\n",
      "INFO:qiskit.transpiler.runningpassmanager:Pass: Depth - 0.00000 (ms)\n",
      "INFO:qiskit.transpiler.runningpassmanager:Pass: FixedPoint - 0.00000 (ms)\n",
      "INFO:qiskit.transpiler.runningpassmanager:Pass: Size - 0.00000 (ms)\n",
      "INFO:qiskit.transpiler.runningpassmanager:Pass: FixedPoint - 0.00000 (ms)\n",
      "INFO:qiskit.transpiler.runningpassmanager:Pass: Optimize1qGatesDecomposition - 16.99734 (ms)\n",
      "INFO:qiskit.transpiler.runningpassmanager:Pass: CXCancellation - 1.00255 (ms)\n",
      "INFO:qiskit.transpiler.runningpassmanager:Pass: GatesInBasis - 0.00000 (ms)\n",
      "INFO:qiskit.transpiler.runningpassmanager:Pass: Depth - 0.00000 (ms)\n",
      "INFO:qiskit.transpiler.runningpassmanager:Pass: FixedPoint - 0.00000 (ms)\n",
      "INFO:qiskit.transpiler.runningpassmanager:Pass: Size - 0.00000 (ms)\n",
      "INFO:qiskit.transpiler.runningpassmanager:Pass: FixedPoint - 0.00000 (ms)\n",
      "INFO:qiskit.transpiler.runningpassmanager:Pass: ContainsInstruction - 0.00000 (ms)\n",
      "INFO:qiskit.compiler.transpiler:Total Transpile Time - 96.52591 (ms)\n"
     ]
    },
    {
     "name": "stdout",
     "output_type": "stream",
     "text": [
      "\n",
      "\n",
      "matrix norm of the difference between the ideal propagator and that obtained by cartan decomposition: \n",
      " 7.769560961856694e-07\n"
     ]
    }
   ],
   "source": [
    "from qiskit import Aer, transpile\n",
    "\n",
    "unitary_simulator = Aer.get_backend('unitary_simulator')\n",
    "qc_transp = transpile(qc, unitary_simulator)\n",
    "final_unitary_cartan = unitary_simulator.run(qc_transp).result().get_unitary()\n",
    "\n",
    "import scipy\n",
    "from qiskit.quantum_info import SparsePauliOp\n",
    "\n",
    "H = SparsePauliOp([\"XXI\", \"YYI\", \"ZZI\", \"IXX\", \"IYY\", \"IZZ\"], \n",
    "                  np.array([1, 1, 1, 1, 1, 1])).to_matrix()\n",
    "propagator = scipy.linalg.expm(-1j*H*test_time_evolve)\n",
    "matrix_norm = np.linalg.norm(propagator - final_unitary_cartan)\n",
    "print(\"\\n\")\n",
    "print(\"matrix norm of the difference between the ideal propagator and that obtained by cartan decomposition: \\n\", matrix_norm)"
   ]
  },
  {
   "attachments": {},
   "cell_type": "markdown",
   "metadata": {},
   "source": [
    "#### Check our plugin is installed"
   ]
  },
  {
   "cell_type": "code",
   "execution_count": 10,
   "metadata": {},
   "outputs": [
    {
     "name": "stderr",
     "output_type": "stream",
     "text": [
      "DEBUG:stevedore.extension:found extension EntryPoint(name='clifford.default', value='qiskit.transpiler.passes.synthesis.high_level_synthesis:DefaultSynthesisClifford', group='qiskit.synthesis')\n",
      "DEBUG:stevedore.extension:found extension EntryPoint(name='linear_function.default', value='qiskit.transpiler.passes.synthesis.high_level_synthesis:DefaultSynthesisLinearFunction', group='qiskit.synthesis')\n",
      "DEBUG:stevedore.extension:found extension EntryPoint(name='permutation.acg', value='qiskit.transpiler.passes.synthesis.high_level_synthesis:ACGSynthesisPermutation', group='qiskit.synthesis')\n",
      "DEBUG:stevedore.extension:found extension EntryPoint(name='permutation.basic', value='qiskit.transpiler.passes.synthesis.high_level_synthesis:BasicSynthesisPermutation', group='qiskit.synthesis')\n",
      "DEBUG:stevedore.extension:found extension EntryPoint(name='permutation.default', value='qiskit.transpiler.passes.synthesis.high_level_synthesis:BasicSynthesisPermutation', group='qiskit.synthesis')\n",
      "DEBUG:stevedore.extension:found extension EntryPoint(name='permutation.kms', value='qiskit.transpiler.passes.synthesis.high_level_synthesis:KMSSynthesisPermutation', group='qiskit.synthesis')\n",
      "DEBUG:stevedore.extension:found extension EntryPoint(name='paulievolutiongate.cartan', value='qiskit_cartan.cartan_plugin:CartanPlugin', group='qiskit.synthesis')\n",
      "DEBUG:stevedore.extension:found extension EntryPoint(name='PauliEvolution.cartan2', value='qiskit_cartan.cartan_plugin:CartanPlugin', group='qiskit.synthesis')\n"
     ]
    },
    {
     "name": "stdout",
     "output_type": "stream",
     "text": [
      "['clifford.default', 'linear_function.default', 'permutation.acg', 'permutation.basic', 'permutation.default', 'permutation.kms', 'paulievolutiongate.cartan', 'PauliEvolution.cartan2']\n"
     ]
    }
   ],
   "source": [
    "from qiskit.transpiler.passes.synthesis.plugin import HighLevelSynthesisPluginManager\n",
    "HLS_plugin_manager = HighLevelSynthesisPluginManager()\n",
    "print(HLS_plugin_manager.plugins.names())"
   ]
  },
  {
   "attachments": {},
   "cell_type": "markdown",
   "metadata": {},
   "source": [
    "#### Test the pass"
   ]
  },
  {
   "cell_type": "code",
   "execution_count": 11,
   "metadata": {},
   "outputs": [
    {
     "name": "stdout",
     "output_type": "stream",
     "text": [
      "before: \n"
     ]
    },
    {
     "data": {
      "text/html": [
       "<pre style=\"word-wrap: normal;white-space: pre;background: #fff0;line-height: 1.1;font-family: &quot;Courier New&quot;,Courier,monospace\">     ┌──────────────────────────────────────────────────┐\n",
       "q_0: ┤0                                                 ├\n",
       "     │                                                  │\n",
       "q_1: ┤1 exp(-it (XXI + YYI + ZZI + IXX + IYY + IZZ))(3) ├\n",
       "     │                                                  │\n",
       "q_2: ┤2                                                 ├\n",
       "     └──────────────────────────────────────────────────┘</pre>"
      ],
      "text/plain": [
       "     ┌──────────────────────────────────────────────────┐\n",
       "q_0: ┤0                                                 ├\n",
       "     │                                                  │\n",
       "q_1: ┤1 exp(-it (XXI + YYI + ZZI + IXX + IYY + IZZ))(3) ├\n",
       "     │                                                  │\n",
       "q_2: ┤2                                                 ├\n",
       "     └──────────────────────────────────────────────────┘"
      ]
     },
     "execution_count": 11,
     "metadata": {},
     "output_type": "execute_result"
    }
   ],
   "source": [
    "from qiskit.transpiler.passes.synthesis.high_level_synthesis import HLSConfig, HighLevelSynthesis\n",
    "from qiskit.transpiler import PassManager\n",
    "\n",
    "qc_before = QuantumCircuit(3)\n",
    "qc_before.append(test_paulievolutiongate, range(3))\n",
    "print(\"before: \")\n",
    "qc_before.draw()"
   ]
  },
  {
   "cell_type": "code",
   "execution_count": 12,
   "metadata": {},
   "outputs": [
    {
     "name": "stderr",
     "output_type": "stream",
     "text": [
      "DEBUG:stevedore.extension:found extension EntryPoint(name='clifford.default', value='qiskit.transpiler.passes.synthesis.high_level_synthesis:DefaultSynthesisClifford', group='qiskit.synthesis')\n",
      "DEBUG:stevedore.extension:found extension EntryPoint(name='linear_function.default', value='qiskit.transpiler.passes.synthesis.high_level_synthesis:DefaultSynthesisLinearFunction', group='qiskit.synthesis')\n",
      "DEBUG:stevedore.extension:found extension EntryPoint(name='permutation.acg', value='qiskit.transpiler.passes.synthesis.high_level_synthesis:ACGSynthesisPermutation', group='qiskit.synthesis')\n",
      "DEBUG:stevedore.extension:found extension EntryPoint(name='permutation.basic', value='qiskit.transpiler.passes.synthesis.high_level_synthesis:BasicSynthesisPermutation', group='qiskit.synthesis')\n",
      "DEBUG:stevedore.extension:found extension EntryPoint(name='permutation.default', value='qiskit.transpiler.passes.synthesis.high_level_synthesis:BasicSynthesisPermutation', group='qiskit.synthesis')\n",
      "DEBUG:stevedore.extension:found extension EntryPoint(name='permutation.kms', value='qiskit.transpiler.passes.synthesis.high_level_synthesis:KMSSynthesisPermutation', group='qiskit.synthesis')\n",
      "DEBUG:stevedore.extension:found extension EntryPoint(name='paulievolutiongate.cartan', value='qiskit_cartan.cartan_plugin:CartanPlugin', group='qiskit.synthesis')\n",
      "DEBUG:stevedore.extension:found extension EntryPoint(name='PauliEvolution.cartan2', value='qiskit_cartan.cartan_plugin:CartanPlugin', group='qiskit.synthesis')\n"
     ]
    },
    {
     "name": "stdout",
     "output_type": "stream",
     "text": [
      "Running Cartan Synthesis Plugin...\n"
     ]
    },
    {
     "name": "stderr",
     "output_type": "stream",
     "text": [
      "INFO:qiskit.transpiler.runningpassmanager:Pass: HighLevelSynthesis - 85.09660 (ms)\n"
     ]
    },
    {
     "name": "stdout",
     "output_type": "stream",
     "text": [
      "Optimization terminated successfully.\n",
      "         Current function value: -2.303234\n",
      "         Iterations: 15\n",
      "         Function evaluations: 18\n",
      "         Gradient evaluations: 18\n",
      "--- 0.07500696182250977 seconds ---\n",
      "Optimization Error:\n",
      "3.878611739499617e-12\n"
     ]
    },
    {
     "data": {
      "text/html": [
       "<pre style=\"word-wrap: normal;white-space: pre;background: #fff0;line-height: 1.1;font-family: &quot;Courier New&quot;,Courier,monospace\">     ┌───────────────────────┐┌─────────────────────────┐»\n",
       "q_0: ┤0                      ├┤0                        ├»\n",
       "     │                       ││                         │»\n",
       "q_1: ┤1 exp(-it YZX)(1.1781) ├┤1 exp(-it ZYX)(-0.49347) ├»\n",
       "     │                       ││                         │»\n",
       "q_2: ┤2                      ├┤2                        ├»\n",
       "     └───────────────────────┘└─────────────────────────┘»\n",
       "«     ┌─────────────────────────┐┌─────────────────────────┐»\n",
       "«q_0: ┤0                        ├┤0                        ├»\n",
       "«     │                         ││                         │»\n",
       "«q_1: ┤1 exp(-it XZY)(-0.47282) ├┤1 exp(-it ZXY)(-0.30774) ├»\n",
       "«     │                         ││                         │»\n",
       "«q_2: ┤2                        ├┤2                        ├»\n",
       "«     └─────────────────────────┘└─────────────────────────┘»\n",
       "«     ┌───────────────────────┐┌─────────────────────────┐ ░ »\n",
       "«q_0: ┤0                      ├┤0                        ├─░─»\n",
       "«     │                       ││                         │ ░ »\n",
       "«q_1: ┤1 exp(-it XYZ)(1.1059) ├┤1 exp(-it YXZ)(-0.86749) ├─░─»\n",
       "«     │                       ││                         │ ░ »\n",
       "«q_2: ┤2                      ├┤2                        ├─░─»\n",
       "«     └───────────────────────┘└─────────────────────────┘ ░ »\n",
       "«     ┌───────────────────┐┌──────────────────┐┌───────────────────┐ ░ »\n",
       "«q_0: ┤0                  ├┤0                 ├┤0                  ├─░─»\n",
       "«     │                   ││                  ││                   │ ░ »\n",
       "«q_1: ┤1 exp(-it IXX)(-6) ├┤1 exp(-it IYY)(3) ├┤1 exp(-it IZZ)(-3) ├─░─»\n",
       "«     │                   ││                  ││                   │ ░ »\n",
       "«q_2: ┤2                  ├┤2                 ├┤2                  ├─░─»\n",
       "«     └───────────────────┘└──────────────────┘└───────────────────┘ ░ »\n",
       "«     ┌────────────────────────┐┌────────────────────────┐»\n",
       "«q_0: ┤0                       ├┤0                       ├»\n",
       "«     │                        ││                        │»\n",
       "«q_1: ┤1 exp(-it YXZ)(0.86749) ├┤1 exp(-it XYZ)(-1.1059) ├»\n",
       "«     │                        ││                        │»\n",
       "«q_2: ┤2                       ├┤2                       ├»\n",
       "«     └────────────────────────┘└────────────────────────┘»\n",
       "«     ┌────────────────────────┐┌────────────────────────┐»\n",
       "«q_0: ┤0                       ├┤0                       ├»\n",
       "«     │                        ││                        │»\n",
       "«q_1: ┤1 exp(-it ZXY)(0.30774) ├┤1 exp(-it XZY)(0.47282) ├»\n",
       "«     │                        ││                        │»\n",
       "«q_2: ┤2                       ├┤2                       ├»\n",
       "«     └────────────────────────┘└────────────────────────┘»\n",
       "«     ┌────────────────────────┐┌────────────────────────┐\n",
       "«q_0: ┤0                       ├┤0                       ├\n",
       "«     │                        ││                        │\n",
       "«q_1: ┤1 exp(-it ZYX)(0.49347) ├┤1 exp(-it YZX)(-1.1781) ├\n",
       "«     │                        ││                        │\n",
       "«q_2: ┤2                       ├┤2                       ├\n",
       "«     └────────────────────────┘└────────────────────────┘</pre>"
      ],
      "text/plain": [
       "     ┌───────────────────────┐┌─────────────────────────┐»\n",
       "q_0: ┤0                      ├┤0                        ├»\n",
       "     │                       ││                         │»\n",
       "q_1: ┤1 exp(-it YZX)(1.1781) ├┤1 exp(-it ZYX)(-0.49347) ├»\n",
       "     │                       ││                         │»\n",
       "q_2: ┤2                      ├┤2                        ├»\n",
       "     └───────────────────────┘└─────────────────────────┘»\n",
       "«     ┌─────────────────────────┐┌─────────────────────────┐»\n",
       "«q_0: ┤0                        ├┤0                        ├»\n",
       "«     │                         ││                         │»\n",
       "«q_1: ┤1 exp(-it XZY)(-0.47282) ├┤1 exp(-it ZXY)(-0.30774) ├»\n",
       "«     │                         ││                         │»\n",
       "«q_2: ┤2                        ├┤2                        ├»\n",
       "«     └─────────────────────────┘└─────────────────────────┘»\n",
       "«     ┌───────────────────────┐┌─────────────────────────┐ ░ »\n",
       "«q_0: ┤0                      ├┤0                        ├─░─»\n",
       "«     │                       ││                         │ ░ »\n",
       "«q_1: ┤1 exp(-it XYZ)(1.1059) ├┤1 exp(-it YXZ)(-0.86749) ├─░─»\n",
       "«     │                       ││                         │ ░ »\n",
       "«q_2: ┤2                      ├┤2                        ├─░─»\n",
       "«     └───────────────────────┘└─────────────────────────┘ ░ »\n",
       "«     ┌───────────────────┐┌──────────────────┐┌───────────────────┐ ░ »\n",
       "«q_0: ┤0                  ├┤0                 ├┤0                  ├─░─»\n",
       "«     │                   ││                  ││                   │ ░ »\n",
       "«q_1: ┤1 exp(-it IXX)(-6) ├┤1 exp(-it IYY)(3) ├┤1 exp(-it IZZ)(-3) ├─░─»\n",
       "«     │                   ││                  ││                   │ ░ »\n",
       "«q_2: ┤2                  ├┤2                 ├┤2                  ├─░─»\n",
       "«     └───────────────────┘└──────────────────┘└───────────────────┘ ░ »\n",
       "«     ┌────────────────────────┐┌────────────────────────┐»\n",
       "«q_0: ┤0                       ├┤0                       ├»\n",
       "«     │                        ││                        │»\n",
       "«q_1: ┤1 exp(-it YXZ)(0.86749) ├┤1 exp(-it XYZ)(-1.1059) ├»\n",
       "«     │                        ││                        │»\n",
       "«q_2: ┤2                       ├┤2                       ├»\n",
       "«     └────────────────────────┘└────────────────────────┘»\n",
       "«     ┌────────────────────────┐┌────────────────────────┐»\n",
       "«q_0: ┤0                       ├┤0                       ├»\n",
       "«     │                        ││                        │»\n",
       "«q_1: ┤1 exp(-it ZXY)(0.30774) ├┤1 exp(-it XZY)(0.47282) ├»\n",
       "«     │                        ││                        │»\n",
       "«q_2: ┤2                       ├┤2                       ├»\n",
       "«     └────────────────────────┘└────────────────────────┘»\n",
       "«     ┌────────────────────────┐┌────────────────────────┐\n",
       "«q_0: ┤0                       ├┤0                       ├\n",
       "«     │                        ││                        │\n",
       "«q_1: ┤1 exp(-it ZYX)(0.49347) ├┤1 exp(-it YZX)(-1.1781) ├\n",
       "«     │                        ││                        │\n",
       "«q_2: ┤2                       ├┤2                       ├\n",
       "«     └────────────────────────┘└────────────────────────┘"
      ]
     },
     "execution_count": 12,
     "metadata": {},
     "output_type": "execute_result"
    }
   ],
   "source": [
    "from qiskit.transpiler.passes.synthesis.high_level_synthesis import HLSConfig\n",
    "\n",
    "hls_config = HLSConfig(PauliEvolution=[(\"cartan2\", {})])\n",
    "pm = PassManager()\n",
    "pm.append(HighLevelSynthesis(hls_config=hls_config))\n",
    "qc_after = pm.run(qc_before)\n",
    "qc_after.draw()"
   ]
  }
 ],
 "metadata": {
  "kernelspec": {
   "display_name": "qiskit_stable_env",
   "language": "python",
   "name": "python3"
  },
  "language_info": {
   "codemirror_mode": {
    "name": "ipython",
    "version": 3
   },
   "file_extension": ".py",
   "mimetype": "text/x-python",
   "name": "python",
   "nbconvert_exporter": "python",
   "pygments_lexer": "ipython3",
   "version": "3.10.11"
  },
  "orig_nbformat": 4
 },
 "nbformat": 4,
 "nbformat_minor": 2
}
