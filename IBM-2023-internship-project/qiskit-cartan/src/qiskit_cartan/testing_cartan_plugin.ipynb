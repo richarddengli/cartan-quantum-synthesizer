{
 "cells": [
  {
   "attachments": {},
   "cell_type": "markdown",
   "metadata": {},
   "source": [
    "This notebook is used to test the `cartan_plugin.py` file and to make sure the plugin is installed correctly."
   ]
  },
  {
   "cell_type": "code",
   "execution_count": 1,
   "metadata": {},
   "outputs": [],
   "source": [
    "from qiskit_cartan.cartan_plugin import *\n",
    "\n",
    "import logging\n",
    "logging.basicConfig(level='DEBUG')"
   ]
  },
  {
   "attachments": {},
   "cell_type": "markdown",
   "metadata": {},
   "source": [
    "#### Check `synth_cartan` works as intended with an example Heisenberg Hamiltonian"
   ]
  },
  {
   "cell_type": "code",
   "execution_count": 2,
   "metadata": {},
   "outputs": [
    {
     "name": "stdout",
     "output_type": "stream",
     "text": [
      "Optimization terminated successfully.\n",
      "         Current function value: -2.586419\n",
      "         Iterations: 13\n",
      "         Function evaluations: 22\n",
      "         Gradient evaluations: 22\n",
      "--- 0.06998658180236816 seconds ---\n",
      "Optimization Error:\n",
      "3.606967140699748e-12\n",
      "     ┌────────────────────────┐┌────────────────────────┐»\n",
      "q_0: ┤0                       ├┤0                       ├»\n",
      "     │                        ││                        │»\n",
      "q_1: ┤1 exp(-it XYZ)(-1.3459) ├┤1 exp(-it XZY)(0.77382) ├»\n",
      "     │                        ││                        │»\n",
      "q_2: ┤2                       ├┤2                       ├»\n",
      "     └────────────────────────┘└────────────────────────┘»\n",
      "«     ┌────────────────────────┐┌───────────────────────┐»\n",
      "«q_0: ┤0                       ├┤0                      ├»\n",
      "«     │                        ││                       │»\n",
      "«q_1: ┤1 exp(-it ZYX)(-1.1724) ├┤1 exp(-it YZX)(1.7887) ├»\n",
      "«     │                        ││                       │»\n",
      "«q_2: ┤2                       ├┤2                      ├»\n",
      "«     └────────────────────────┘└───────────────────────┘»\n",
      "«     ┌───────────────────────┐┌───────────────────────┐ ░ »\n",
      "«q_0: ┤0                      ├┤0                      ├─░─»\n",
      "«     │                       ││                       │ ░ »\n",
      "«q_1: ┤1 exp(-it YXZ)(1.2713) ├┤1 exp(-it ZXY)(2.7964) ├─░─»\n",
      "«     │                       ││                       │ ░ »\n",
      "«q_2: ┤2                      ├┤2                      ├─░─»\n",
      "«     └───────────────────────┘└───────────────────────┘ ░ »\n",
      "«     ┌───────────────────┐┌───────────────────┐┌───────────────────┐ ░ »\n",
      "«q_0: ┤0                  ├┤0                  ├┤0                  ├─░─»\n",
      "«     │                   ││                   ││                   │ ░ »\n",
      "«q_1: ┤1 exp(-it ZIZ)(-6) ├┤1 exp(-it IZZ)(-3) ├┤1 exp(-it ZZI)(-3) ├─░─»\n",
      "«     │                   ││                   ││                   │ ░ »\n",
      "«q_2: ┤2                  ├┤2                  ├┤2                  ├─░─»\n",
      "«     └───────────────────┘└───────────────────┘└───────────────────┘ ░ »\n",
      "«     ┌────────────────────────┐┌────────────────────────┐»\n",
      "«q_0: ┤0                       ├┤0                       ├»\n",
      "«     │                        ││                        │»\n",
      "«q_1: ┤1 exp(-it ZXY)(-2.7964) ├┤1 exp(-it YXZ)(-1.2713) ├»\n",
      "«     │                        ││                        │»\n",
      "«q_2: ┤2                       ├┤2                       ├»\n",
      "«     └────────────────────────┘└────────────────────────┘»\n",
      "«     ┌────────────────────────┐┌───────────────────────┐»\n",
      "«q_0: ┤0                       ├┤0                      ├»\n",
      "«     │                        ││                       │»\n",
      "«q_1: ┤1 exp(-it YZX)(-1.7887) ├┤1 exp(-it ZYX)(1.1724) ├»\n",
      "«     │                        ││                       │»\n",
      "«q_2: ┤2                       ├┤2                      ├»\n",
      "«     └────────────────────────┘└───────────────────────┘»\n",
      "«     ┌─────────────────────────┐┌───────────────────────┐\n",
      "«q_0: ┤0                        ├┤0                      ├\n",
      "«     │                         ││                       │\n",
      "«q_1: ┤1 exp(-it XZY)(-0.77382) ├┤1 exp(-it XYZ)(1.3459) ├\n",
      "«     │                         ││                       │\n",
      "«q_2: ┤2                        ├┤2                      ├\n",
      "«     └─────────────────────────┘└───────────────────────┘\n"
     ]
    }
   ],
   "source": [
    "from qiskit.circuit.library import PauliEvolutionGate\n",
    "from qiskit.quantum_info import SparsePauliOp\n",
    "test_heisenberg_ham = SparsePauliOp([\"XXI\", \"YYI\", \"ZZI\", \"IXX\", \"IYY\", \"IZZ\"], coeffs = [1,1,1,1,1,1])\n",
    "test_time_evolve = 3\n",
    "test_paulievolutiongate = PauliEvolutionGate(test_heisenberg_ham, time=test_time_evolve)\n",
    "qc = synth_cartan(test_paulievolutiongate, 0)\n",
    "print(qc)"
   ]
  },
  {
   "cell_type": "code",
   "execution_count": 3,
   "metadata": {},
   "outputs": [
    {
     "name": "stderr",
     "output_type": "stream",
     "text": [
      "INFO:qiskit.compiler.assembler:Total Assembly Time - 0.00000 (ms)\n",
      "INFO:qiskit.compiler.assembler:Total Assembly Time - 0.00000 (ms)\n",
      "INFO:qiskit.compiler.assembler:Total Assembly Time - 0.00000 (ms)\n",
      "INFO:qiskit.compiler.assembler:Total Assembly Time - 0.00000 (ms)\n",
      "INFO:qiskit.compiler.assembler:Total Assembly Time - 1.00422 (ms)\n",
      "INFO:qiskit.compiler.assembler:Total Assembly Time - 0.00000 (ms)\n",
      "INFO:qiskit.compiler.assembler:Total Assembly Time - 0.99683 (ms)\n",
      "INFO:qiskit.compiler.assembler:Total Assembly Time - 0.00000 (ms)\n",
      "INFO:qiskit.compiler.assembler:Total Assembly Time - 0.00000 (ms)\n",
      "INFO:qiskit.compiler.assembler:Total Assembly Time - 0.00000 (ms)\n",
      "INFO:qiskit.compiler.assembler:Total Assembly Time - 0.00000 (ms)\n",
      "INFO:qiskit.compiler.assembler:Total Assembly Time - 0.00000 (ms)\n",
      "INFO:qiskit.compiler.assembler:Total Assembly Time - 0.00000 (ms)\n",
      "INFO:qiskit.compiler.assembler:Total Assembly Time - 0.00000 (ms)\n",
      "INFO:qiskit.compiler.assembler:Total Assembly Time - 0.00000 (ms)\n",
      "DEBUG:stevedore._cache:reading C:\\Users\\8J3021897\\AppData\\Local\\Python Entry Points\\5522feee9b6969c29ec38a3f68c61d9cab417410200951a50b259cf4a8158592\n",
      "DEBUG:stevedore._cache:writing to C:\\Users\\8J3021897\\AppData\\Local\\Python Entry Points\\5522feee9b6969c29ec38a3f68c61d9cab417410200951a50b259cf4a8158592\n",
      "DEBUG:stevedore.extension:found extension EntryPoint(name='basic', value='qiskit.transpiler.preset_passmanagers.builtin_plugins:BasicSwapPassManager', group='qiskit.transpiler.routing')\n",
      "DEBUG:stevedore.extension:found extension EntryPoint(name='lookahead', value='qiskit.transpiler.preset_passmanagers.builtin_plugins:LookaheadSwapPassManager', group='qiskit.transpiler.routing')\n",
      "DEBUG:stevedore.extension:found extension EntryPoint(name='none', value='qiskit.transpiler.preset_passmanagers.builtin_plugins:NoneRoutingPassManager', group='qiskit.transpiler.routing')\n",
      "DEBUG:stevedore.extension:found extension EntryPoint(name='sabre', value='qiskit.transpiler.preset_passmanagers.builtin_plugins:SabreSwapPassManager', group='qiskit.transpiler.routing')\n",
      "DEBUG:stevedore.extension:found extension EntryPoint(name='stochastic', value='qiskit.transpiler.preset_passmanagers.builtin_plugins:StochasticSwapPassManager', group='qiskit.transpiler.routing')\n",
      "DEBUG:stevedore.extension:found extension EntryPoint(name='toqm', value='qiskit_toqm.toqm_plugin:ToqmSwapPlugin', group='qiskit.transpiler.routing')\n",
      "INFO:qiskit.transpiler.runningpassmanager:Pass: ContainsInstruction - 0.00000 (ms)\n",
      "INFO:qiskit.transpiler.runningpassmanager:Pass: UnitarySynthesis - 0.00000 (ms)\n",
      "DEBUG:stevedore.extension:found extension EntryPoint(name='clifford.default', value='qiskit.transpiler.passes.synthesis.high_level_synthesis:DefaultSynthesisClifford', group='qiskit.synthesis')\n",
      "DEBUG:stevedore.extension:found extension EntryPoint(name='linear_function.default', value='qiskit.transpiler.passes.synthesis.high_level_synthesis:DefaultSynthesisLinearFunction', group='qiskit.synthesis')\n",
      "DEBUG:stevedore.extension:found extension EntryPoint(name='permutation.acg', value='qiskit.transpiler.passes.synthesis.high_level_synthesis:ACGSynthesisPermutation', group='qiskit.synthesis')\n",
      "DEBUG:stevedore.extension:found extension EntryPoint(name='permutation.basic', value='qiskit.transpiler.passes.synthesis.high_level_synthesis:BasicSynthesisPermutation', group='qiskit.synthesis')\n",
      "DEBUG:stevedore.extension:found extension EntryPoint(name='permutation.default', value='qiskit.transpiler.passes.synthesis.high_level_synthesis:BasicSynthesisPermutation', group='qiskit.synthesis')\n",
      "DEBUG:stevedore.extension:found extension EntryPoint(name='permutation.kms', value='qiskit.transpiler.passes.synthesis.high_level_synthesis:KMSSynthesisPermutation', group='qiskit.synthesis')\n",
      "DEBUG:stevedore.extension:found extension EntryPoint(name='PauliEvolution.cartan', value='qiskit_cartan.cartan_plugin:CartanPlugin', group='qiskit.synthesis')\n",
      "INFO:qiskit.transpiler.runningpassmanager:Pass: HighLevelSynthesis - 8.95810 (ms)\n",
      "INFO:qiskit.transpiler.runningpassmanager:Pass: UnrollCustomDefinitions - 21.15345 (ms)\n",
      "INFO:qiskit.transpiler.passes.basis.basis_translator:Begin BasisTranslator from source basis {('barrier', 3), ('rzz', 2), ('sdg', 1), ('h', 1), ('rz', 1), ('s', 1), ('cx', 2)} to target basis {'rx', 'mcy', 'mcswap', 'sx', 'mcry', 'measure', 'mcz', 'mcr', 'cu1', 'r', 'rxx', 'ry', 'reset', 'cswap', 'id', 'swap', 'mcu2', 'u', 't', 'p', 'save_state', 'z', 'csx', 'barrier', 'mcsx', 'cy', 'delay', 'rzx', 'mcphase', 'diagonal', 'mcu3', 'multiplexer', 'u2', 'mcu', 'u3', 'sxdg', 'save_unitary', 'u1', 'mcp', 'sdg', 'rz', 'x', 's', 'set_unitary', 'tdg', 'h', 'cu', 'cp', 'rzz', 'snapshot', 'cz', 'mcu1', 'cu3', 'pauli', 'mcrx', 'ryy', 'y', 'unitary', 'mcx', 'cx', 'mcrz', 'ccx', 'cu2'}.\n",
      "DEBUG:qiskit.transpiler.passes.basis.basis_translator:Begining basis search from {('barrier', 3), ('rzz', 2), ('sdg', 1), ('h', 1), ('rz', 1), ('s', 1), ('cx', 2)} to {'rx', 'mcy', 'mcswap', 'sx', 'mcry', 'measure', 'mcz', 'mcr', 'cu1', 'r', 'rxx', 'ry', 'reset', 'cswap', 'id', 'swap', 'mcu2', 'u', 't', 'p', 'save_state', 'z', 'csx', 'barrier', 'mcsx', 'cy', 'delay', 'rzx', 'mcphase', 'diagonal', 'mcu3', 'multiplexer', 'u2', 'mcu', 'u3', 'sxdg', 'save_unitary', 'u1', 'mcp', 'sdg', 'rz', 'x', 's', 'set_unitary', 'tdg', 'h', 'cu', 'cp', 'rzz', 'snapshot', 'cz', 'mcu1', 'cu3', 'pauli', 'mcrx', 'ryy', 'y', 'unitary', 'mcx', 'cx', 'mcrz', 'ccx', 'cu2'}.\n",
      "INFO:qiskit.transpiler.passes.basis.basis_translator:Basis translation path search completed in 0.001s.\n",
      "INFO:qiskit.transpiler.passes.basis.basis_translator:Basis translation paths composed in 0.002s.\n",
      "INFO:qiskit.transpiler.passes.basis.basis_translator:Basis translation instructions replaced in 0.000s.\n",
      "INFO:qiskit.transpiler.runningpassmanager:Pass: BasisTranslator - 6.00505 (ms)\n",
      "INFO:qiskit.transpiler.runningpassmanager:Pass: RemoveResetInZeroState - 1.00040 (ms)\n",
      "INFO:qiskit.transpiler.runningpassmanager:Pass: Depth - 0.00000 (ms)\n",
      "INFO:qiskit.transpiler.runningpassmanager:Pass: FixedPoint - 0.00000 (ms)\n",
      "INFO:qiskit.transpiler.runningpassmanager:Pass: Size - 0.00000 (ms)\n",
      "INFO:qiskit.transpiler.runningpassmanager:Pass: FixedPoint - 0.00000 (ms)\n",
      "INFO:qiskit.transpiler.runningpassmanager:Pass: Optimize1qGatesDecomposition - 62.82306 (ms)\n",
      "INFO:qiskit.transpiler.runningpassmanager:Pass: CXCancellation - 0.00000 (ms)\n",
      "INFO:qiskit.transpiler.runningpassmanager:Pass: GatesInBasis - 0.00000 (ms)\n",
      "INFO:qiskit.transpiler.runningpassmanager:Pass: Depth - 0.00000 (ms)\n",
      "INFO:qiskit.transpiler.runningpassmanager:Pass: FixedPoint - 0.00000 (ms)\n",
      "INFO:qiskit.transpiler.runningpassmanager:Pass: Size - 0.00000 (ms)\n",
      "INFO:qiskit.transpiler.runningpassmanager:Pass: FixedPoint - 0.00000 (ms)\n",
      "INFO:qiskit.transpiler.runningpassmanager:Pass: Optimize1qGatesDecomposition - 14.99939 (ms)\n",
      "INFO:qiskit.transpiler.runningpassmanager:Pass: CXCancellation - 0.00000 (ms)\n",
      "INFO:qiskit.transpiler.runningpassmanager:Pass: GatesInBasis - 0.00000 (ms)\n",
      "INFO:qiskit.transpiler.runningpassmanager:Pass: Depth - 0.00000 (ms)\n",
      "INFO:qiskit.transpiler.runningpassmanager:Pass: FixedPoint - 0.00000 (ms)\n",
      "INFO:qiskit.transpiler.runningpassmanager:Pass: Size - 0.00000 (ms)\n",
      "INFO:qiskit.transpiler.runningpassmanager:Pass: FixedPoint - 0.00000 (ms)\n",
      "INFO:qiskit.transpiler.runningpassmanager:Pass: ContainsInstruction - 0.00000 (ms)\n",
      "INFO:qiskit.compiler.transpiler:Total Transpile Time - 547.99819 (ms)\n"
     ]
    },
    {
     "name": "stdout",
     "output_type": "stream",
     "text": [
      "\n",
      "\n",
      "matrix norm of the difference between the ideal propagator and that obtained by cartan decomposition: \n",
      " 7.494421707149518e-07\n"
     ]
    }
   ],
   "source": [
    "from qiskit import Aer, transpile\n",
    "\n",
    "unitary_simulator = Aer.get_backend('unitary_simulator')\n",
    "qc_transp = transpile(qc, unitary_simulator)\n",
    "final_unitary_cartan = unitary_simulator.run(qc_transp).result().get_unitary()\n",
    "\n",
    "import scipy\n",
    "from qiskit.quantum_info import SparsePauliOp\n",
    "\n",
    "H = SparsePauliOp([\"XXI\", \"YYI\", \"ZZI\", \"IXX\", \"IYY\", \"IZZ\"], \n",
    "                  np.array([1, 1, 1, 1, 1, 1])).to_matrix()\n",
    "propagator = scipy.linalg.expm(-1j*H*test_time_evolve)\n",
    "matrix_norm = np.linalg.norm(propagator - final_unitary_cartan)\n",
    "print(\"\\n\")\n",
    "print(\"matrix norm of the difference between the ideal propagator and that obtained by cartan decomposition: \\n\", matrix_norm)"
   ]
  },
  {
   "attachments": {},
   "cell_type": "markdown",
   "metadata": {},
   "source": [
    "#### Check our plugin is installed"
   ]
  },
  {
   "cell_type": "code",
   "execution_count": 4,
   "metadata": {},
   "outputs": [
    {
     "name": "stderr",
     "output_type": "stream",
     "text": [
      "DEBUG:stevedore.extension:found extension EntryPoint(name='clifford.default', value='qiskit.transpiler.passes.synthesis.high_level_synthesis:DefaultSynthesisClifford', group='qiskit.synthesis')\n",
      "DEBUG:stevedore.extension:found extension EntryPoint(name='linear_function.default', value='qiskit.transpiler.passes.synthesis.high_level_synthesis:DefaultSynthesisLinearFunction', group='qiskit.synthesis')\n",
      "DEBUG:stevedore.extension:found extension EntryPoint(name='permutation.acg', value='qiskit.transpiler.passes.synthesis.high_level_synthesis:ACGSynthesisPermutation', group='qiskit.synthesis')\n",
      "DEBUG:stevedore.extension:found extension EntryPoint(name='permutation.basic', value='qiskit.transpiler.passes.synthesis.high_level_synthesis:BasicSynthesisPermutation', group='qiskit.synthesis')\n",
      "DEBUG:stevedore.extension:found extension EntryPoint(name='permutation.default', value='qiskit.transpiler.passes.synthesis.high_level_synthesis:BasicSynthesisPermutation', group='qiskit.synthesis')\n",
      "DEBUG:stevedore.extension:found extension EntryPoint(name='permutation.kms', value='qiskit.transpiler.passes.synthesis.high_level_synthesis:KMSSynthesisPermutation', group='qiskit.synthesis')\n",
      "DEBUG:stevedore.extension:found extension EntryPoint(name='PauliEvolution.cartan', value='qiskit_cartan.cartan_plugin:CartanPlugin', group='qiskit.synthesis')\n"
     ]
    },
    {
     "name": "stdout",
     "output_type": "stream",
     "text": [
      "['clifford.default', 'linear_function.default', 'permutation.acg', 'permutation.basic', 'permutation.default', 'permutation.kms', 'PauliEvolution.cartan']\n"
     ]
    }
   ],
   "source": [
    "from qiskit.transpiler.passes.synthesis.plugin import HighLevelSynthesisPluginManager\n",
    "HLS_plugin_manager = HighLevelSynthesisPluginManager()\n",
    "print(HLS_plugin_manager.plugins.names())"
   ]
  },
  {
   "attachments": {},
   "cell_type": "markdown",
   "metadata": {},
   "source": [
    "#### Test the pass"
   ]
  },
  {
   "cell_type": "code",
   "execution_count": 5,
   "metadata": {},
   "outputs": [
    {
     "name": "stdout",
     "output_type": "stream",
     "text": [
      "before: \n"
     ]
    },
    {
     "data": {
      "text/html": [
       "<pre style=\"word-wrap: normal;white-space: pre;background: #fff0;line-height: 1.1;font-family: &quot;Courier New&quot;,Courier,monospace\">     ┌──────────────────────────────────────────────────┐\n",
       "q_0: ┤0                                                 ├\n",
       "     │                                                  │\n",
       "q_1: ┤1 exp(-it (XXI + YYI + ZZI + IXX + IYY + IZZ))(3) ├\n",
       "     │                                                  │\n",
       "q_2: ┤2                                                 ├\n",
       "     └──────────────────────────────────────────────────┘</pre>"
      ],
      "text/plain": [
       "     ┌──────────────────────────────────────────────────┐\n",
       "q_0: ┤0                                                 ├\n",
       "     │                                                  │\n",
       "q_1: ┤1 exp(-it (XXI + YYI + ZZI + IXX + IYY + IZZ))(3) ├\n",
       "     │                                                  │\n",
       "q_2: ┤2                                                 ├\n",
       "     └──────────────────────────────────────────────────┘"
      ]
     },
     "execution_count": 5,
     "metadata": {},
     "output_type": "execute_result"
    }
   ],
   "source": [
    "from qiskit.transpiler.passes.synthesis.high_level_synthesis import HighLevelSynthesis\n",
    "from qiskit.transpiler import PassManager\n",
    "\n",
    "qc_before = QuantumCircuit(3)\n",
    "qc_before.append(test_paulievolutiongate, range(3))\n",
    "print(\"before: \")\n",
    "qc_before.draw()"
   ]
  },
  {
   "cell_type": "code",
   "execution_count": 12,
   "metadata": {},
   "outputs": [
    {
     "name": "stderr",
     "output_type": "stream",
     "text": [
      "DEBUG:stevedore.extension:found extension EntryPoint(name='clifford.default', value='qiskit.transpiler.passes.synthesis.high_level_synthesis:DefaultSynthesisClifford', group='qiskit.synthesis')\n",
      "DEBUG:stevedore.extension:found extension EntryPoint(name='linear_function.default', value='qiskit.transpiler.passes.synthesis.high_level_synthesis:DefaultSynthesisLinearFunction', group='qiskit.synthesis')\n",
      "DEBUG:stevedore.extension:found extension EntryPoint(name='permutation.acg', value='qiskit.transpiler.passes.synthesis.high_level_synthesis:ACGSynthesisPermutation', group='qiskit.synthesis')\n",
      "DEBUG:stevedore.extension:found extension EntryPoint(name='permutation.basic', value='qiskit.transpiler.passes.synthesis.high_level_synthesis:BasicSynthesisPermutation', group='qiskit.synthesis')\n",
      "DEBUG:stevedore.extension:found extension EntryPoint(name='permutation.default', value='qiskit.transpiler.passes.synthesis.high_level_synthesis:BasicSynthesisPermutation', group='qiskit.synthesis')\n",
      "DEBUG:stevedore.extension:found extension EntryPoint(name='permutation.kms', value='qiskit.transpiler.passes.synthesis.high_level_synthesis:KMSSynthesisPermutation', group='qiskit.synthesis')\n",
      "DEBUG:stevedore.extension:found extension EntryPoint(name='PauliEvolution.cartan', value='qiskit_cartan.cartan_plugin:CartanPlugin', group='qiskit.synthesis')\n",
      "INFO:qiskit.transpiler.runningpassmanager:Pass: HighLevelSynthesis - 117.56945 (ms)\n"
     ]
    },
    {
     "name": "stdout",
     "output_type": "stream",
     "text": [
      "Running Cartan Synthesis Plugin...\n",
      "Optimization terminated successfully.\n",
      "         Current function value: -2.586419\n",
      "         Iterations: 19\n",
      "         Function evaluations: 33\n",
      "         Gradient evaluations: 33\n",
      "--- 0.1060028076171875 seconds ---\n",
      "Optimization Error:\n",
      "4.502731778432756e-11\n"
     ]
    },
    {
     "data": {
      "text/html": [
       "<pre style=\"word-wrap: normal;white-space: pre;background: #fff0;line-height: 1.1;font-family: &quot;Courier New&quot;,Courier,monospace\">     ┌─────────────────────────┐┌────────────────────────┐»\n",
       "q_0: ┤0                        ├┤0                       ├»\n",
       "     │                         ││                        │»\n",
       "q_1: ┤1 exp(-it ZXY)(-0.93556) ├┤1 exp(-it YXZ)(-1.1781) ├»\n",
       "     │                         ││                        │»\n",
       "q_2: ┤2                        ├┤2                       ├»\n",
       "     └─────────────────────────┘└────────────────────────┘»\n",
       "«     ┌───────────────────────┐┌──────────────────────┐»\n",
       "«q_0: ┤0                      ├┤0                     ├»\n",
       "«     │                       ││                      │»\n",
       "«q_1: ┤1 exp(-it XYZ)(1.2793) ├┤1 exp(-it YZX)(1.189) ├»\n",
       "«     │                       ││                      │»\n",
       "«q_2: ┤2                      ├┤2                     ├»\n",
       "«     └───────────────────────┘└──────────────────────┘»\n",
       "«     ┌────────────────────────┐┌────────────────────────┐ ░ »\n",
       "«q_0: ┤0                       ├┤0                       ├─░─»\n",
       "«     │                        ││                        │ ░ »\n",
       "«q_1: ┤1 exp(-it XZY)(0.30774) ├┤1 exp(-it ZYX)(0.41544) ├─░─»\n",
       "«     │                        ││                        │ ░ »\n",
       "«q_2: ┤2                       ├┤2                       ├─░─»\n",
       "«     └────────────────────────┘└────────────────────────┘ ░ »\n",
       "«     ┌───────────────────┐┌───────────────────┐┌───────────────────┐ ░ »\n",
       "«q_0: ┤0                  ├┤0                  ├┤0                  ├─░─»\n",
       "«     │                   ││                   ││                   │ ░ »\n",
       "«q_1: ┤1 exp(-it YIY)(-6) ├┤1 exp(-it IYY)(-3) ├┤1 exp(-it YYI)(-3) ├─░─»\n",
       "«     │                   ││                   ││                   │ ░ »\n",
       "«q_2: ┤2                  ├┤2                  ├┤2                  ├─░─»\n",
       "«     └───────────────────┘└───────────────────┘└───────────────────┘ ░ »\n",
       "«     ┌─────────────────────────┐┌─────────────────────────┐»\n",
       "«q_0: ┤0                        ├┤0                        ├»\n",
       "«     │                         ││                         │»\n",
       "«q_1: ┤1 exp(-it ZYX)(-0.41544) ├┤1 exp(-it XZY)(-0.30774) ├»\n",
       "«     │                         ││                         │»\n",
       "«q_2: ┤2                        ├┤2                        ├»\n",
       "«     └─────────────────────────┘└─────────────────────────┘»\n",
       "«     ┌───────────────────────┐┌────────────────────────┐»\n",
       "«q_0: ┤0                      ├┤0                       ├»\n",
       "«     │                       ││                        │»\n",
       "«q_1: ┤1 exp(-it YZX)(-1.189) ├┤1 exp(-it XYZ)(-1.2793) ├»\n",
       "«     │                       ││                        │»\n",
       "«q_2: ┤2                      ├┤2                       ├»\n",
       "«     └───────────────────────┘└────────────────────────┘»\n",
       "«     ┌───────────────────────┐┌────────────────────────┐\n",
       "«q_0: ┤0                      ├┤0                       ├\n",
       "«     │                       ││                        │\n",
       "«q_1: ┤1 exp(-it YXZ)(1.1781) ├┤1 exp(-it ZXY)(0.93556) ├\n",
       "«     │                       ││                        │\n",
       "«q_2: ┤2                      ├┤2                       ├\n",
       "«     └───────────────────────┘└────────────────────────┘</pre>"
      ],
      "text/plain": [
       "     ┌─────────────────────────┐┌────────────────────────┐»\n",
       "q_0: ┤0                        ├┤0                       ├»\n",
       "     │                         ││                        │»\n",
       "q_1: ┤1 exp(-it ZXY)(-0.93556) ├┤1 exp(-it YXZ)(-1.1781) ├»\n",
       "     │                         ││                        │»\n",
       "q_2: ┤2                        ├┤2                       ├»\n",
       "     └─────────────────────────┘└────────────────────────┘»\n",
       "«     ┌───────────────────────┐┌──────────────────────┐»\n",
       "«q_0: ┤0                      ├┤0                     ├»\n",
       "«     │                       ││                      │»\n",
       "«q_1: ┤1 exp(-it XYZ)(1.2793) ├┤1 exp(-it YZX)(1.189) ├»\n",
       "«     │                       ││                      │»\n",
       "«q_2: ┤2                      ├┤2                     ├»\n",
       "«     └───────────────────────┘└──────────────────────┘»\n",
       "«     ┌────────────────────────┐┌────────────────────────┐ ░ »\n",
       "«q_0: ┤0                       ├┤0                       ├─░─»\n",
       "«     │                        ││                        │ ░ »\n",
       "«q_1: ┤1 exp(-it XZY)(0.30774) ├┤1 exp(-it ZYX)(0.41544) ├─░─»\n",
       "«     │                        ││                        │ ░ »\n",
       "«q_2: ┤2                       ├┤2                       ├─░─»\n",
       "«     └────────────────────────┘└────────────────────────┘ ░ »\n",
       "«     ┌───────────────────┐┌───────────────────┐┌───────────────────┐ ░ »\n",
       "«q_0: ┤0                  ├┤0                  ├┤0                  ├─░─»\n",
       "«     │                   ││                   ││                   │ ░ »\n",
       "«q_1: ┤1 exp(-it YIY)(-6) ├┤1 exp(-it IYY)(-3) ├┤1 exp(-it YYI)(-3) ├─░─»\n",
       "«     │                   ││                   ││                   │ ░ »\n",
       "«q_2: ┤2                  ├┤2                  ├┤2                  ├─░─»\n",
       "«     └───────────────────┘└───────────────────┘└───────────────────┘ ░ »\n",
       "«     ┌─────────────────────────┐┌─────────────────────────┐»\n",
       "«q_0: ┤0                        ├┤0                        ├»\n",
       "«     │                         ││                         │»\n",
       "«q_1: ┤1 exp(-it ZYX)(-0.41544) ├┤1 exp(-it XZY)(-0.30774) ├»\n",
       "«     │                         ││                         │»\n",
       "«q_2: ┤2                        ├┤2                        ├»\n",
       "«     └─────────────────────────┘└─────────────────────────┘»\n",
       "«     ┌───────────────────────┐┌────────────────────────┐»\n",
       "«q_0: ┤0                      ├┤0                       ├»\n",
       "«     │                       ││                        │»\n",
       "«q_1: ┤1 exp(-it YZX)(-1.189) ├┤1 exp(-it XYZ)(-1.2793) ├»\n",
       "«     │                       ││                        │»\n",
       "«q_2: ┤2                      ├┤2                       ├»\n",
       "«     └───────────────────────┘└────────────────────────┘»\n",
       "«     ┌───────────────────────┐┌────────────────────────┐\n",
       "«q_0: ┤0                      ├┤0                       ├\n",
       "«     │                       ││                        │\n",
       "«q_1: ┤1 exp(-it YXZ)(1.1781) ├┤1 exp(-it ZXY)(0.93556) ├\n",
       "«     │                       ││                        │\n",
       "«q_2: ┤2                      ├┤2                       ├\n",
       "«     └───────────────────────┘└────────────────────────┘"
      ]
     },
     "execution_count": 12,
     "metadata": {},
     "output_type": "execute_result"
    }
   ],
   "source": [
    "from qiskit.transpiler.passes.synthesis.high_level_synthesis import HLSConfig\n",
    "\n",
    "hls_config = HLSConfig(PauliEvolution=[(\"cartan\", {\"random_seed\":10})])\n",
    "pm = PassManager()\n",
    "pm.append(HighLevelSynthesis(hls_config=hls_config))\n",
    "qc_after = pm.run(qc_before)\n",
    "qc_after.draw()"
   ]
  }
 ],
 "metadata": {
  "kernelspec": {
   "display_name": "qiskit_stable_env",
   "language": "python",
   "name": "python3"
  },
  "language_info": {
   "codemirror_mode": {
    "name": "ipython",
    "version": 3
   },
   "file_extension": ".py",
   "mimetype": "text/x-python",
   "name": "python",
   "nbconvert_exporter": "python",
   "pygments_lexer": "ipython3",
   "version": "3.10.11"
  },
  "orig_nbformat": 4
 },
 "nbformat": 4,
 "nbformat_minor": 2
}
