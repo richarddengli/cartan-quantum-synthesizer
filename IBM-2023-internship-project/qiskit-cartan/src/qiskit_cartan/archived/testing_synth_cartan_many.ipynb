{
 "cells": [
  {
   "attachments": {},
   "cell_type": "markdown",
   "metadata": {},
   "source": [
    "This notebook is used to test the `synth_cartan_many.py` file."
   ]
  },
  {
   "cell_type": "code",
   "execution_count": 1,
   "metadata": {},
   "outputs": [],
   "source": [
    "from qiskit_cartan.synth_cartan_many import *"
   ]
  },
  {
   "cell_type": "code",
   "execution_count": 6,
   "metadata": {},
   "outputs": [],
   "source": [
    "# Generate many circuits, each corrsponding to a different ordering of factors in k.\n",
    "from qiskit.circuit.library import PauliEvolutionGate\n",
    "from qiskit.quantum_info import SparsePauliOp\n",
    "# test_heisenberg_ham = SparsePauliOp([\"XXI\", \"YYI\", \"ZZI\", \"IXX\", \"IYY\", \"IZZ\"], coeffs = [1,1,1,1,1,1])\n",
    "test_heisenberg_ham = SparsePauliOp([\"XXII\", \"IXXI\", \"IIXX\", \"XIIX\",\n",
    "                                      \"YYII\", \"IYYI\", \"IIYY\", \"YIIY\",\n",
    "                                      \"ZZII\", \"IZZI\", \"IIZZ\", \"ZIIZ\"],\n",
    "                                      coeffs = [1,1,1,1,1,1,1,1,1,1,1,1])\n",
    "test_time_evolve = 3\n",
    "test_paulievolutiongate = PauliEvolutionGate(test_heisenberg_ham, time=test_time_evolve)\n",
    "qc_list = synth_cartan_many(test_paulievolutiongate, \n",
    "                              random_seed=0,\n",
    "                              size=200,\n",
    "                              lexicographic=False)\n",
    "print(qc_list)"
   ]
  },
  {
   "cell_type": "code",
   "execution_count": 3,
   "metadata": {},
   "outputs": [],
   "source": [
    "# Feed each of the circuits above into a preset pass manager and get #CXs. \n",
    "\n",
    "from qiskit.transpiler.preset_passmanagers import generate_preset_pass_manager\n",
    "from qiskit.transpiler import CouplingMap\n",
    "\n",
    "# This function is used to quickly generate a preset pass manager. \n",
    "# A preset pass manager are the default pass managers used by the transpile() function.\n",
    "pm = generate_preset_pass_manager(optimization_level=2, \n",
    "                                    coupling_map=CouplingMap([[0, 1], [1,0], [1, 2], [2,1]]), \n",
    "                                    routing_method=\"sabre\",\n",
    "                                    translation_method=\"unroller\",\n",
    "                                    basis_gates=\"['u1', 'u2', 'u3', 'cx']\",\n",
    "                                    seed_transpiler=0)\n",
    "\n",
    "num_cx_list = []\n",
    "\n",
    "for qc in qc_list:\n",
    " \n",
    "    qc_l = pm.layout.run(qc) # SABRE layout\n",
    "    qc_r = pm.routing.run(qc_l)\n",
    "    qc_t = pm.translation.run(qc_r)\n",
    "    qc_o = pm.optimization.run(qc_t) # optimization techniques\n",
    "\n",
    "    num_cx_list.append(qc_o.count_ops()[\"cx\"]) # number of CNOTs"
   ]
  },
  {
   "cell_type": "code",
   "execution_count": 4,
   "metadata": {},
   "outputs": [
    {
     "data": {
      "text/plain": [
       "(array([ 65.,   0.,   0.,   0.,   0.,   0.,   0.,   0.,   0., 135.]),\n",
       " array([50. , 50.4, 50.8, 51.2, 51.6, 52. , 52.4, 52.8, 53.2, 53.6, 54. ]),\n",
       " <BarContainer object of 10 artists>)"
      ]
     },
     "execution_count": 4,
     "metadata": {},
     "output_type": "execute_result"
    },
    {
     "data": {
      "image/png": "[encoded data removed]",
      "text/plain": [
       "<Figure size 640x480 with 1 Axes>"
      ]
     },
     "metadata": {},
     "output_type": "display_data"
    }
   ],
   "source": [
    "from matplotlib import pyplot as plt\n",
    "plt.hist(num_cx_list)"
   ]
  },
  {
   "cell_type": "code",
   "execution_count": 5,
   "metadata": {},
   "outputs": [
    {
     "name": "stdout",
     "output_type": "stream",
     "text": [
      "Optimization terminated successfully.\n",
      "         Current function value: -2.586419\n",
      "         Iterations: 24\n",
      "         Function evaluations: 30\n",
      "         Gradient evaluations: 30\n",
      "--- 0.08513569831848145 seconds ---\n",
      "Optimization Error:\n",
      "5.5069833333252636e-11\n",
      "OrderedDict([('cx', 54), ('u', 24), ('u1', 15), ('u2', 12), ('barrier', 2)])\n"
     ]
    }
   ],
   "source": [
    "# Compare above distribution of CXs to the single value obtained by a lexicographic ordering of factors in k.\n",
    "# The lexicographic ordering is unique.\n",
    "qc_list_lexicographic = synth_cartan_many(test_paulievolutiongate, \n",
    "                              random_seed=0,\n",
    "                              size=1,\n",
    "                              lexicographic=True)\n",
    "\n",
    "qc_l = pm.layout.run(qc_list_lexicographic[0]) # SABRE layout\n",
    "qc_r = pm.routing.run(qc_l)\n",
    "qc_t = pm.translation.run(qc_r)\n",
    "qc_o = pm.optimization.run(qc_t) # optimization techniques\n",
    "\n",
    "print(qc_o.count_ops())"
   ]
  }
 ],
 "metadata": {
  "kernelspec": {
   "display_name": "qiskit_stable_env",
   "language": "python",
   "name": "python3"
  },
  "language_info": {
   "codemirror_mode": {
    "name": "ipython",
    "version": 3
   },
   "file_extension": ".py",
   "mimetype": "text/x-python",
   "name": "python",
   "nbconvert_exporter": "python",
   "pygments_lexer": "ipython3",
   "version": "3.10.11"
  },
  "orig_nbformat": 4
 },
 "nbformat": 4,
 "nbformat_minor": 2
}
