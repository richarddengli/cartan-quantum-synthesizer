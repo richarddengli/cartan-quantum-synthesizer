{
 "cells": [
  {
   "attachments": {},
   "cell_type": "markdown",
   "metadata": {},
   "source": [
    "This notebook is used to play around with different transpilation options."
   ]
  },
  {
   "attachments": {},
   "cell_type": "markdown",
   "metadata": {},
   "source": [
    "#### Play around with other transpilation options just to get an idea of what works well"
   ]
  },
  {
   "cell_type": "code",
   "execution_count": 1,
   "metadata": {},
   "outputs": [
    {
     "name": "stdout",
     "output_type": "stream",
     "text": [
      "Running Cartan Synthesis Plugin...\n",
      "Optimization terminated successfully.\n",
      "         Current function value: -0.271988\n",
      "         Iterations: 7\n",
      "         Function evaluations: 10\n",
      "         Gradient evaluations: 10\n",
      "--- 0.028944730758666992 seconds ---\n",
      "Optimization Error:\n",
      "1.568316222819728e-10\n",
      "\n",
      "\n",
      "Amount of each Operation: \n",
      " OrderedDict([('PauliEvolution', 15), ('barrier', 2)])\n",
      "Circuit depth: \n",
      " 15\n"
     ]
    }
   ],
   "source": [
    "from qiskit.circuit import QuantumCircuit\n",
    "from qiskit.circuit.library import PauliEvolutionGate\n",
    "from qiskit.quantum_info import SparsePauliOp\n",
    "from qiskit.transpiler.passes.synthesis.high_level_synthesis import HighLevelSynthesis, HLSConfig\n",
    "from qiskit.transpiler import PassManager\n",
    "\n",
    "# Make 3-qubit Heisenberg Ham to test and corresponding PauliEvolutionGates.\n",
    "test_heisenberg_ham = SparsePauliOp([\"XXI\", \"YYI\", \"ZZI\", \"IXX\", \"IYY\", \"IZZ\"], coeffs = [1,1,1,1,1,1])\n",
    "test_time_evolve = 3\n",
    "test_paulievolutiongate = PauliEvolutionGate(test_heisenberg_ham, time=test_time_evolve)\n",
    "\n",
    "# Make initial circuit with PauliEvolutionGate.\n",
    "qc_before = QuantumCircuit(3)\n",
    "qc_before.append(test_paulievolutiongate, range(3))\n",
    "\n",
    "# Make cartan decomposed circuit with PauliEvolutionGates by calling the custom pass.\n",
    "hls_config = HLSConfig(PauliEvolution=[(\"cartan\", {\"random_seed\":1})])\n",
    "pm = PassManager()\n",
    "pm.append(HighLevelSynthesis(hls_config=hls_config))\n",
    "qc_after = pm.run(qc_before)\n",
    "\n",
    "# Summarize amount of each type of operation and circuit depth.\n",
    "print(\"\\n\")\n",
    "print(\"Amount of each Operation: \\n\", qc_after.count_ops())\n",
    "print(\"Circuit depth: \\n\", qc_after.depth())"
   ]
  }
 ],
 "metadata": {
  "kernelspec": {
   "display_name": "qiskit_stable_env",
   "language": "python",
   "name": "python3"
  },
  "language_info": {
   "codemirror_mode": {
    "name": "ipython",
    "version": 3
   },
   "file_extension": ".py",
   "mimetype": "text/x-python",
   "name": "python",
   "nbconvert_exporter": "python",
   "pygments_lexer": "ipython3",
   "version": "3.10.11"
  },
  "orig_nbformat": 4
 },
 "nbformat": 4,
 "nbformat_minor": 2
}
